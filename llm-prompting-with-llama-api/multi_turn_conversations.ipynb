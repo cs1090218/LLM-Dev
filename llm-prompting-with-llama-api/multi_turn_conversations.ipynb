{
 "cells": [
  {
   "cell_type": "markdown",
   "id": "ec0720fc-a21e-4b12-8cb1-1c71d0fa49ee",
   "metadata": {},
   "source": [
    "# Lesson 3\n",
    "Based on: https://llama.meta.com/docs/model-cards-and-prompt-formats/meta-llama-3/"
   ]
  },
  {
   "cell_type": "code",
   "execution_count": 1,
   "id": "e2231536-f799-4cc4-a70b-9cf8bb3aeb79",
   "metadata": {},
   "outputs": [],
   "source": [
    "%load_ext autoreload\n",
    "%autoreload 2\n",
    "\n",
    "# import llama helper function\n",
    "from utils import llama, llama_chat"
   ]
  },
  {
   "cell_type": "markdown",
   "id": "84c51a7d-f4f6-4917-85e8-b62d4a6db72d",
   "metadata": {},
   "source": [
    "### LLMs are stateless\n",
    "LLMs don't remember your previous interactions with them by default."
   ]
  },
  {
   "cell_type": "code",
   "execution_count": 2,
   "id": "29f01f0f-18d3-4103-a5c5-e16d073ea8e1",
   "metadata": {},
   "outputs": [
    {
     "name": "stdout",
     "output_type": "stream",
     "text": [
      "I'm glad you're looking for some fun activities to do this weekend! There are so many options, depending on your interests and preferences. Here are a few ideas to get you started:\n",
      "\n",
      "**Outdoor Activities**\n",
      "\n",
      "1. Go for a hike or nature walk: Find a nearby trail and enjoy the fresh air and scenery.\n",
      "2. Have a picnic: Pack a basket with your favorite foods and head to a nearby park or scenic spot.\n",
      "3. Go cycling or rent a bike: Explore your local area or hit a nearby bike trail.\n",
      "4. Play sports: Grab some friends and play a game of soccer, frisbee, or volleyball.\n",
      "5. Go kayaking or paddleboarding: Rent equipment and explore a nearby lake or river.\n",
      "\n",
      "**Indoor Activities**\n",
      "\n",
      "1. Have a movie marathon: Pick your favorite films or TV shows and binge-watch to your heart's content.\n",
      "2. Try a new recipe: Look up a new recipe online and give it a try. You can even invite friends over for a cooking party.\n",
      "3. Play board games or video games: Gather some friends and have a friendly competition.\n",
      "4. Practice yoga or meditation: Take some time to relax and unwind with some mindfulness exercises.\n",
      "5. Learn something new: Take an online course or watch tutorials on a topic that interests you.\n",
      "\n",
      "**Creative Activities**\n",
      "\n",
      "1. Paint or draw: Grab some art supplies and get creative.\n",
      "2. Write a story or poem: Let your imagination run wild and write something new.\n",
      "3. Take photos: Grab your camera or phone and go on a photo walk.\n",
      "4. Make music: Dust off your instrument or try singing.\n",
      "5. Craft or DIY: Look up a new project online and give it a try.\n",
      "\n",
      "**Social Activities**\n",
      "\n",
      "1. Host a game night: Invite friends over for a night of board games and snacks.\n",
      "2. Go out for brunch or dinner: Try a new restaurant or meet up with friends.\n",
      "3. Attend a local event: Check out what's happening in your community and attend a concert, festival, or other event.\n",
      "4. Volunteer: Look up local organizations and volunteer your time to help out.\n",
      "5. Take a class or workshop: Learn a new skill or hobby with a class or workshop.\n",
      "\n",
      "I hope these ideas help you plan a fun and relaxing weekend!\n"
     ]
    }
   ],
   "source": [
    "prompt = \"\"\"What are fun activities I can do this weekend?\"\"\"\n",
    "response = llama(prompt)\n",
    "print(response)"
   ]
  },
  {
   "cell_type": "code",
   "execution_count": 3,
   "id": "8bfc928c-62b1-4159-aee5-1d29ea8b1621",
   "metadata": {},
   "outputs": [
    {
     "name": "stdout",
     "output_type": "stream",
     "text": [
      "I'm happy to help! However, I need more information from you. Which of what options are you referring to? Please provide a list of options, and I'll do my best to help you determine which ones would be good for your health.\n"
     ]
    }
   ],
   "source": [
    "prompt_2 = \"\"\"Which of these would be good for my health?\"\"\"\n",
    "response_2 = llama(prompt_2)\n",
    "print(response_2)"
   ]
  },
  {
   "cell_type": "markdown",
   "id": "b02be5f2-9289-4c4e-b886-95c0f71dc1c6",
   "metadata": {},
   "source": [
    "### Constructing multi-turn prompts\n",
    "You need to provide prior prompts and responses as part of the context of each new turn in the conversation."
   ]
  },
  {
   "cell_type": "code",
   "execution_count": 4,
   "id": "09b0135e-3b53-42f7-ad04-821abed0a571",
   "metadata": {},
   "outputs": [],
   "source": [
    "prompt_1 = \"\"\"What are fun activities I can do this weekend?\"\"\"\n",
    "response_1 = llama(prompt_1)"
   ]
  },
  {
   "cell_type": "code",
   "execution_count": 5,
   "id": "174d6d46-a985-4dc1-bc78-a780ac79c820",
   "metadata": {},
   "outputs": [],
   "source": [
    "prompt_2 = \"\"\"Which of these would be good for my health?\"\"\""
   ]
  },
  {
   "cell_type": "code",
   "execution_count": 7,
   "id": "71c6d6b0-e349-4b19-8deb-3a264f5ac549",
   "metadata": {},
   "outputs": [
    {
     "name": "stdout",
     "output_type": "stream",
     "text": [
      "[{'role': 'user', 'content': 'What are fun activities I can do this weekend?'}, {'role': 'assistant', 'content': \"I'm glad you're looking for some fun activities to do this weekend! There are so many options, depending on your interests and preferences. Here are a few ideas to get you started:\\n\\n**Outdoor Activities**\\n\\n1. Go for a hike or nature walk: Find a nearby trail and enjoy the fresh air and scenery.\\n2. Have a picnic: Pack a basket with your favorite foods and head to a nearby park or scenic spot.\\n3. Go cycling or rent a bike: Explore your local area or hit a nearby bike trail.\\n4. Play sports: Grab some friends and play a game of soccer, frisbee, or volleyball.\\n5. Go kayaking or paddleboarding: Rent equipment and explore nearby lakes or rivers.\\n\\n**Indoor Activities**\\n\\n1. Have a movie marathon: Pick your favorite films or TV shows and binge-watch to your heart's content.\\n2. Try a new recipe: Look up a new recipe online and give it a try. You can even invite friends over for a cooking party.\\n3. Play board games or video games: Gather some friends and have a friendly competition.\\n4. Practice yoga or meditation: Take some time to relax and unwind with some mindfulness exercises.\\n5. Learn something new: Take an online course or watch tutorials on a topic that interests you.\\n\\n**Creative Activities**\\n\\n1. Paint or draw: Grab some art supplies and get creative.\\n2. Write a story or poem: Let your imagination run wild and write something new.\\n3. Take photos: Grab your camera or phone and go on a photo walk.\\n4. Make music: Dust off your instrument or try singing.\\n5. Craft or DIY: Look up a new project online and give it a try.\\n\\n**Social Activities**\\n\\n1. Host a game night: Invite friends over for a night of board games and snacks.\\n2. Go out for brunch or dinner: Try a new restaurant or meet up with friends.\\n3. Attend a local event: Check out what's happening in your community and attend a concert, festival, or other event.\\n4. Volunteer: Look up local organizations and volunteer your time to help out.\\n5. Take a class or workshop: Learn a new skill or hobby with a class or workshop.\\n\\nI hope these ideas help you plan a fun and relaxing weekend!\"}, {'role': 'user', 'content': 'Which of these would be good for my health?'}]\n",
      "Many of the activities I listed can be beneficial for your health, depending on your individual needs and goals. Here are some specific activities that can have a positive impact on your physical and mental well-being:\n",
      "\n",
      "**Outdoor Activities**\n",
      "\n",
      "1. Hiking or nature walk: Regular outdoor exercise can improve cardiovascular health, boost mood, and reduce stress.\n",
      "2. Cycling or kayaking: These activities can improve cardiovascular health, strengthen muscles, and increase flexibility.\n",
      "3. Playing sports: Engaging in team sports or individual sports like tennis or swimming can improve cardiovascular health, build strength and endurance, and reduce stress.\n",
      "\n",
      "**Indoor Activities**\n",
      "\n",
      "1. Yoga or meditation: These practices can reduce stress, improve sleep, and increase feelings of calm and relaxation.\n",
      "2. Cooking or baking: Engaging in healthy cooking and baking can improve nutrition, reduce stress, and provide a sense of accomplishment.\n",
      "3. Reading or learning: Reading can improve cognitive function, reduce stress, and increase feelings of relaxation. Learning a new skill or hobby can improve cognitive function, build confidence, and provide a sense of accomplishment.\n",
      "\n",
      "**Creative Activities**\n",
      "\n",
      "1. Painting or drawing: Engaging in creative activities can reduce stress, improve mood, and increase feelings of self-expression and fulfillment.\n",
      "2. Writing or journaling: Writing can improve cognitive function, reduce stress, and increase feelings of self-expression and fulfillment.\n",
      "3. Photography: Taking photos can improve cognitive function, reduce stress, and increase feelings of self-expression and fulfillment.\n",
      "\n",
      "**Social Activities**\n",
      "\n",
      "1. Spending time with friends or family: Socializing with loved ones can improve mental health, reduce stress, and increase feelings of connection and belonging.\n",
      "2. Volunteering: Helping others through volunteering can improve mental health, reduce stress, and increase feelings of purpose and fulfillment.\n",
      "\n",
      "Remember to always listen to your body and take regular breaks to rest and recharge. It's also important to prioritize activities that bring you joy and fulfillment, as this can have a positive impact on your overall well-being.\n"
     ]
    }
   ],
   "source": [
    "# Check llama_chat function to see how the prompt is contructed with previous conversation as context.\n",
    "response_2 = llama_chat(\"\", [prompt_1, prompt_2], [response_1])\n",
    "print(response_2)"
   ]
  },
  {
   "cell_type": "markdown",
   "id": "97681aed-60be-4090-a149-ec55980da388",
   "metadata": {},
   "source": [
    "### Another example"
   ]
  },
  {
   "cell_type": "code",
   "execution_count": 8,
   "id": "215f7036-14d1-4f95-bcb3-1c8de3a77628",
   "metadata": {},
   "outputs": [
    {
     "name": "stdout",
     "output_type": "stream",
     "text": [
      "What a great question! There are countless amazing countries to travel to, each with its unique culture, history, landscapes, and experiences. Here are some popular and fascinating destinations to consider:\n",
      "\n",
      "**Europe:**\n",
      "\n",
      "1. Italy - Rich history, art, architecture, and delicious food.\n",
      "2. Spain - Vibrant cities, beautiful beaches, and rich cultural heritage.\n",
      "3. France - Iconic landmarks, fashion, and cuisine.\n",
      "4. Germany - History, beer, and Christmas markets.\n",
      "5. Greece - Islands, beaches, and ancient ruins.\n",
      "6. Portugal - Coastal towns, wine, and rich history.\n",
      "7. Croatia - Stunning coastline, medieval cities, and national parks.\n",
      "\n",
      "**Asia:**\n",
      "\n",
      "1. Japan - Unique culture, food, and technology.\n",
      "2. Thailand - Delicious street food, beautiful beaches, and vibrant cities.\n",
      "3. Vietnam - Rich history, stunning natural beauty, and delicious cuisine.\n",
      "4. Indonesia - Diverse islands, temples, and vibrant cities.\n",
      "5. South Korea - Modern cities, K-pop, and delicious food.\n",
      "6. China - Ancient history, Great Wall, and bustling cities.\n",
      "7. India - Diverse culture, vibrant cities, and stunning natural beauty.\n",
      "\n",
      "**The Americas:**\n",
      "\n",
      "1. United States - Iconic cities, national parks, and diverse culture.\n",
      "2. Canada - Natural beauty, vibrant cities, and friendly people.\n",
      "3. Mexico - Rich history, delicious food, and beautiful beaches.\n",
      "4. Costa Rica - Lush rainforests, stunning beaches, and eco-tourism.\n",
      "5. Brazil - Vibrant cities, Carnival celebrations, and stunning beaches.\n",
      "6. Peru - Inca ruins, vibrant cities, and stunning natural beauty.\n",
      "7. Argentina - Wine country, stunning Patagonia, and passionate culture.\n",
      "\n",
      "**Africa:**\n",
      "\n",
      "1. South Africa - Stunning natural beauty, vibrant cities, and wildlife.\n",
      "2. Morocco - Rich history, vibrant cities, and delicious cuisine.\n",
      "3. Egypt - Ancient pyramids, Nile River, and vibrant cities.\n",
      "4. Tanzania - Serengeti National Park, Mount Kilimanjaro, and Zanzibar.\n",
      "5. Kenya - Wildlife, national parks, and vibrant cities.\n",
      "6. Ghana - Rich history, vibrant culture, and beautiful beaches.\n",
      "7. Namibia - Stunning natural beauty, Etosha National Park, and desert landscapes.\n",
      "\n",
      "**Oceania:**\n",
      "\n",
      "1. Australia - Iconic cities, stunning beaches, and unique wildlife.\n",
      "2. New Zealand - Stunning natural beauty, adventure activities, and friendly people.\n",
      "3. Fiji - Beautiful beaches, coral reefs, and tropical islands.\n",
      "4. Papua New Guinea - Diverse culture, stunning natural beauty, and adventure activities.\n",
      "5. New Caledonia - French-influenced culture, stunning beaches, and coral reefs.\n",
      "\n",
      "Remember, this is just a small sample of the many amazing countries to travel to. Each destination has its unique charm, and there's always something new to discover. Happy travels!\n"
     ]
    }
   ],
   "source": [
    "prompt_1 = \"\"\"What are some good countries to travel?\"\"\"\n",
    "response_1 = llama(prompt_1)\n",
    "print (response_1)"
   ]
  },
  {
   "cell_type": "code",
   "execution_count": 9,
   "id": "345f48db-2908-4298-a056-67514cc45b39",
   "metadata": {},
   "outputs": [],
   "source": [
    "prompt_2 = \"\"\"Select one of them that is best suited for fall season.\"\"\""
   ]
  },
  {
   "cell_type": "code",
   "execution_count": 10,
   "id": "ef09d61b-f6a9-4177-9682-7582bdbc342b",
   "metadata": {},
   "outputs": [
    {
     "name": "stdout",
     "output_type": "stream",
     "text": [
      "[{'role': 'user', 'content': 'What are some good countries to travel?'}, {'role': 'assistant', 'content': \"What a great question! There are countless amazing countries to travel to, each with its unique culture, history, landscapes, and experiences. Here are some popular and fascinating destinations to consider:\\n\\n**Europe:**\\n\\n1. Italy - Rich history, art, architecture, and delicious food.\\n2. Spain - Vibrant cities, beautiful beaches, and rich cultural heritage.\\n3. France - Iconic landmarks, fashion, and cuisine.\\n4. Germany - History, beer, and Christmas markets.\\n5. Greece - Islands, beaches, and ancient ruins.\\n6. Portugal - Coastal towns, wine, and rich history.\\n7. Croatia - Stunning coastline, medieval cities, and national parks.\\n\\n**Asia:**\\n\\n1. Japan - Unique culture, food, and technology.\\n2. Thailand - Delicious street food, beautiful beaches, and vibrant cities.\\n3. Vietnam - Rich history, stunning natural beauty, and delicious cuisine.\\n4. Indonesia - Diverse islands, temples, and vibrant cities.\\n5. South Korea - Modern cities, K-pop, and delicious food.\\n6. China - Ancient history, Great Wall, and bustling cities.\\n7. India - Diverse culture, vibrant cities, and stunning natural beauty.\\n\\n**The Americas:**\\n\\n1. United States - Iconic cities, national parks, and diverse culture.\\n2. Canada - Natural beauty, vibrant cities, and friendly people.\\n3. Mexico - Rich history, delicious food, and beautiful beaches.\\n4. Costa Rica - Lush rainforests, stunning beaches, and eco-tourism.\\n5. Brazil - Vibrant cities, Carnival celebrations, and stunning beaches.\\n6. Peru - Inca ruins, vibrant cities, and stunning natural beauty.\\n7. Argentina - Wine country, stunning Patagonia, and passionate culture.\\n\\n**Africa:**\\n\\n1. South Africa - Stunning natural beauty, vibrant cities, and wildlife.\\n2. Morocco - Rich history, vibrant cities, and delicious cuisine.\\n3. Egypt - Ancient pyramids, Nile River, and vibrant cities.\\n4. Tanzania - Serengeti National Park, Mount Kilimanjaro, and Zanzibar.\\n5. Kenya - Wildlife, national parks, and vibrant cities.\\n6. Ghana - Rich history, vibrant culture, and beautiful beaches.\\n7. Namibia - Stunning natural beauty, Etosha National Park, and desert landscapes.\\n\\n**Oceania:**\\n\\n1. Australia - Iconic cities, stunning beaches, and unique wildlife.\\n2. New Zealand - Stunning natural beauty, adventure activities, and friendly people.\\n3. Fiji - Beautiful beaches, coral reefs, and tropical islands.\\n4. Papua New Guinea - Diverse culture, stunning natural beauty, and adventure activities.\\n5. New Caledonia - French-influenced culture, stunning beaches, and coral reefs.\\n\\nRemember, this is just a small sample of the many amazing countries to travel to. Each destination has its unique charm, and there's always something new to discover. Happy travels!\"}, {'role': 'user', 'content': 'Select one of them that is best suited for fall season.'}]\n",
      "Based on the list, I would recommend **Portugal** for a fall season trip. Here's why:\n",
      "\n",
      "1. **Mild weather**: Portugal's fall season (September to November) is characterized by mild temperatures, ranging from 15°C to 22°C (59°F to 72°F), making it ideal for outdoor activities and sightseeing.\n",
      "2. **Fewer tourists**: The peak tourist season in Portugal is during the summer months, so visiting in the fall means fewer crowds and a more relaxed atmosphere.\n",
      "3. **Festivals and events**: Portugal has a rich cultural calendar, and fall is a great time to experience some of its famous festivals, such as the **Festa do Avante!** in Setúbal (September), **Festa de Santo António** in Lisbon (June to September), and **Festa do Fogo** in the Azores (October).\n",
      "4. **Wine harvest**: Portugal is famous for its wine production, and the fall season is an excellent time to visit wine regions like the Douro Valley, Alentejo, and Porto. You can participate in wine tastings, vineyard tours, and harvest festivals.\n",
      "5. **Scenic landscapes**: Portugal's fall foliage is stunning, with the changing colors of the leaves creating a picturesque backdrop for your travels. The **Serra da Estrela** mountains, **Ria Formosa** natural park, and **Costa Vicentina** coastal route are just a few examples of the beautiful landscapes you can explore.\n",
      "6. **Affordable prices**: As it's considered the shoulder season, you can find better deals on accommodations, flights, and tour packages, making Portugal an excellent value destination for fall travel.\n",
      "\n",
      "Overall, Portugal offers a unique blend of culture, nature, and relaxation, making it an excellent choice for a fall season trip.\n"
     ]
    }
   ],
   "source": [
    "# Pass prompts and responses to llama_chat function\n",
    "response_2 = llama_chat(\"\", [prompt_1,prompt_2], [response_1])\n",
    "print(response_2)"
   ]
  },
  {
   "cell_type": "code",
   "execution_count": 11,
   "id": "60b99648-3ce1-45ce-a2b5-7dffeed1eea9",
   "metadata": {},
   "outputs": [
    {
     "name": "stdout",
     "output_type": "stream",
     "text": [
      "[{'role': 'user', 'content': 'What are some good countries to travel?'}, {'role': 'assistant', 'content': \"What a great question! There are countless amazing countries to travel to, each with its unique culture, history, landscapes, and experiences. Here are some popular and fascinating destinations to consider:\\n\\n**Europe:**\\n\\n1. Italy - Rich history, art, architecture, and delicious food.\\n2. Spain - Vibrant cities, beautiful beaches, and rich cultural heritage.\\n3. France - Iconic landmarks, fashion, and cuisine.\\n4. Germany - History, beer, and Christmas markets.\\n5. Greece - Islands, beaches, and ancient ruins.\\n6. Portugal - Coastal towns, wine, and rich history.\\n7. Croatia - Stunning coastline, medieval cities, and national parks.\\n\\n**Asia:**\\n\\n1. Japan - Unique culture, food, and technology.\\n2. Thailand - Delicious street food, beautiful beaches, and vibrant cities.\\n3. Vietnam - Rich history, stunning natural beauty, and delicious cuisine.\\n4. Indonesia - Diverse islands, temples, and vibrant cities.\\n5. South Korea - Modern cities, K-pop, and delicious food.\\n6. China - Ancient history, Great Wall, and bustling cities.\\n7. India - Diverse culture, vibrant cities, and stunning natural beauty.\\n\\n**The Americas:**\\n\\n1. United States - Iconic cities, national parks, and diverse culture.\\n2. Canada - Natural beauty, vibrant cities, and friendly people.\\n3. Mexico - Rich history, delicious food, and beautiful beaches.\\n4. Costa Rica - Lush rainforests, stunning beaches, and eco-tourism.\\n5. Brazil - Vibrant cities, Carnival celebrations, and stunning beaches.\\n6. Peru - Inca ruins, vibrant cities, and stunning natural beauty.\\n7. Argentina - Wine country, stunning Patagonia, and passionate culture.\\n\\n**Africa:**\\n\\n1. South Africa - Stunning natural beauty, vibrant cities, and wildlife.\\n2. Morocco - Rich history, vibrant cities, and delicious cuisine.\\n3. Egypt - Ancient pyramids, Nile River, and vibrant cities.\\n4. Tanzania - Serengeti National Park, Mount Kilimanjaro, and Zanzibar.\\n5. Kenya - Wildlife, national parks, and vibrant cities.\\n6. Ghana - Rich history, vibrant culture, and beautiful beaches.\\n7. Namibia - Stunning natural beauty, Etosha National Park, and desert landscapes.\\n\\n**Oceania:**\\n\\n1. Australia - Iconic cities, stunning beaches, and unique wildlife.\\n2. New Zealand - Stunning natural beauty, adventure activities, and friendly people.\\n3. Fiji - Beautiful beaches, coral reefs, and tropical islands.\\n4. Papua New Guinea - Diverse culture, stunning natural beauty, and adventure activities.\\n5. New Caledonia - French-influenced culture, stunning beaches, and coral reefs.\\n\\nRemember, this is just a small sample of the many amazing countries to travel to. Each destination has its unique charm, and there's always something new to discover. Happy travels!\"}, {'role': 'user', 'content': 'Select one of them that is best suited for fall season.'}, {'role': 'assistant', 'content': \"Based on the list, I would recommend **Portugal** for a fall season trip. Here's why:\\n\\n1. **Mild weather**: Portugal's fall season (September to November) is characterized by mild temperatures, ranging from 15°C to 22°C (59°F to 72°F), making it ideal for outdoor activities and sightseeing.\\n2. **Fewer tourists**: The peak tourist season in Portugal is during the summer months, so visiting in the fall means fewer crowds and a more relaxed atmosphere.\\n3. **Festivals and events**: Portugal has a rich cultural calendar, and fall is a great time to experience some of its famous festivals, such as the **Festa do Avante!** in Setúbal (September), **Festa de Santo António** in Lisbon (June to September), and **Festa do Fogo** in the Azores (October).\\n4. **Wine harvest**: Portugal is famous for its wine production, and the fall season is an excellent time to visit wine regions like the Douro Valley, Alentejo, and Porto. You can participate in wine tastings, vineyard tours, and harvest festivals.\\n5. **Scenic landscapes**: Portugal's fall foliage is stunning, with the changing colors of the leaves creating a picturesque backdrop for your travels. The **Serra da Estrela** mountains, **Ria Formosa** natural park, and **Costa Vicentina** coastal route are just a few examples of the beautiful landscapes you can explore.\\n6. **Affordable prices**: As it's considered the shoulder season, you can find better deals on accommodations, flights, and tour packages, making Portugal an excellent value destination for fall travel.\\n\\nOverall, Portugal offers a unique blend of culture, nature, and relaxation, making it an excellent choice for a fall season trip.\"}, {'role': 'user', 'content': 'Please create a 4-day itinerary for this destination.'}]\n",
      "Here's a 4-day itinerary for Portugal in the fall season:\n",
      "\n",
      "**Day 1: Lisbon**\n",
      "\n",
      "* Morning: Start your day with a traditional Portuguese breakfast at a local café, such as Pastéis de Belém or Café A Brasileira.\n",
      "* 10:00 AM: Visit the Jerónimos Monastery, a stunning example of Manueline architecture and a UNESCO World Heritage Site.\n",
      "* 12:00 PM: Take a stroll along the Tagus River and visit the Tower of Belém, another iconic landmark in Lisbon.\n",
      "* 2:00 PM: Enjoy lunch at a local restaurant, such as Solar do Castelo or Casa Geraldo.\n",
      "* 4:00 PM: Explore the historic neighborhood of Alfama, known for its narrow streets, Fado music, and picturesque views.\n",
      "* 7:00 PM: Enjoy a traditional Fado show at a local taberna, such as A Tasca do Chico or O Faia.\n",
      "\n",
      "**Day 2: Sintra and Cascais**\n",
      "\n",
      "* 9:00 AM: Take a day trip to Sintra, a charming town located just outside Lisbon. Visit the Pena Palace, a colorful and whimsical palace that's a must-see.\n",
      "* 1:00 PM: Enjoy lunch at a local restaurant in Sintra, such as O Paparico or A Barrigada.\n",
      "* 3:00 PM: Visit the Quinta da Regaleira, a beautiful estate with gardens, fountains, and underground tunnels.\n",
      "* 6:00 PM: Head to Cascais, a picturesque coastal town with a rich history and stunning views. Enjoy dinner at a local restaurant, such as O Paparico or O Gordo.\n",
      "\n",
      "**Day 3: Porto**\n",
      "\n",
      "* 8:00 AM: Take a train to Porto (approximately 3 hours journey).\n",
      "* 11:00 AM: Visit the Porto Cathedral and the adjacent São Francisco Church, both stunning examples of Gothic architecture.\n",
      "* 1:00 PM: Enjoy lunch at a local restaurant, such as O Paparico or O Gordo.\n",
      "* 3:00 PM: Take a stroll along the Douro River and visit the Ribeira neighborhood, a charming area with colorful buildings and lively atmosphere.\n",
      "* 6:00 PM: Enjoy a traditional Porto-style dinner at a local restaurant, such as O Paparico or O Gordo.\n",
      "\n",
      "**Day 4: Douro Valley**\n",
      "\n",
      "* 9:00 AM: Take a day trip to the Douro Valley, a scenic region known for its vineyards and wine production.\n",
      "* 11:00 AM: Visit a local winery, such as Quinta do Crasto or Quinta do Vallado, and enjoy a wine tasting and tour.\n",
      "* 1:00 PM: Enjoy lunch at a local restaurant, such as O Paparico or A Barrigada.\n",
      "* 3:00 PM: Take a scenic drive through the Douro Valley and enjoy the stunning views of the vineyards and the river.\n",
      "* 6:00 PM: Return to Porto and enjoy a farewell dinner at a local restaurant.\n",
      "\n",
      "This itinerary provides a good balance of culture, history, and natural beauty, and is a great starting point for your trip to Portugal. However, feel free to adjust it to your interests and preferences!\n"
     ]
    }
   ],
   "source": [
    "prompt_3 = \"Please create a 4-day itinerary for this destination.\"\n",
    "prompts = [prompt_1, prompt_2, prompt_3]\n",
    "responses = [response_1, response_2]\n",
    "\n",
    "response_3 = llama_chat(\"\", prompts, responses)\n",
    "\n",
    "print(response_3)"
   ]
  },
  {
   "cell_type": "code",
   "execution_count": null,
   "id": "ae7864f5-1a60-4072-a7c9-3e9ccf3ec99d",
   "metadata": {},
   "outputs": [],
   "source": []
  }
 ],
 "metadata": {
  "kernelspec": {
   "display_name": "Python 3 (ipykernel)",
   "language": "python",
   "name": "python3"
  },
  "language_info": {
   "codemirror_mode": {
    "name": "ipython",
    "version": 3
   },
   "file_extension": ".py",
   "mimetype": "text/x-python",
   "name": "python",
   "nbconvert_exporter": "python",
   "pygments_lexer": "ipython3",
   "version": "3.1.-1"
  }
 },
 "nbformat": 4,
 "nbformat_minor": 5
}
