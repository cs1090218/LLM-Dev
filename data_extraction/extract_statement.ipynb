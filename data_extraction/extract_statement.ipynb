{
 "cells": [
  {
   "cell_type": "code",
   "execution_count": 229,
   "metadata": {},
   "outputs": [
    {
     "name": "stdout",
     "output_type": "stream",
     "text": [
      "The autoreload extension is already loaded. To reload it, use:\n",
      "  %reload_ext autoreload\n"
     ]
    }
   ],
   "source": [
    "%load_ext autoreload\n",
    "%autoreload 2\n",
    "\n",
    "import pdfplumber\n",
    "import re\n",
    "\n",
    "from utils import create_new_sheet, write_content, format_sheet"
   ]
  },
  {
   "cell_type": "code",
   "execution_count": 230,
   "metadata": {},
   "outputs": [],
   "source": [
    "############ Update the following parameters ##################\n",
    "FILEPATH = \"../data/April statement.pdf\"\n",
    "NEW_SHEET_NAME = \"June 2024\""
   ]
  },
  {
   "cell_type": "code",
   "execution_count": 231,
   "metadata": {},
   "outputs": [],
   "source": [
    "SPREADSHEET_ID = \"1Ik2lyOO5MN9a8-hEUf4sRqUlP3WcN36ItekQSGV4NxY\""
   ]
  },
  {
   "cell_type": "code",
   "execution_count": 232,
   "metadata": {},
   "outputs": [],
   "source": [
    "pdf_lines = []\n",
    "with pdfplumber.open(FILEPATH) as pdf:\n",
    "    for page_id in range(len(pdf.pages)):\n",
    "        page = pdf.pages[page_id]\n",
    "        pdf_lines.extend(page.extract_text_lines())\n",
    "pdf_lines = [line['text'] for line in pdf_lines]"
   ]
  },
  {
   "cell_type": "code",
   "execution_count": 233,
   "metadata": {},
   "outputs": [],
   "source": [
    "regex_pattern = \"^(\\d\\d/\\d\\d.*) (-*[\\d\\.,]+)$\"\n",
    "accumulated_content = [['Transaction', 'Cost', 'Type', 'Regular expenses', 'Trip expenses', 'Hobby expenses']]\n",
    "row_id = 2\n",
    "for line in pdf_lines:\n",
    "    if \"AUTOMATIC PAYMENT\" in line:\n",
    "        continue\n",
    "    re_search = re.search(regex_pattern, line)\n",
    "    if re_search is not None:\n",
    "        cost = float(re_search.group(2))\n",
    "        regular_cost = f'=IF(C{row_id}=\"Regular\", B{row_id}, 0)'\n",
    "        trip_cost = f'=IF(C{row_id}=\"Trip\", B{row_id}, 0)'\n",
    "        hobby_cost = f'=IF(C{row_id}=\"Hobby\", B{row_id}, 0)'\n",
    "        accumulated_content.append([re_search.group(1), cost, 'Regular', regular_cost, trip_cost, hobby_cost])\n",
    "        row_id += 1\n",
    "accumulated_content.append(['', f'=SUM(B2:B{row_id-1})', '', f'=SUM(D2:D{row_id-1})', f'=SUM(E2:E{row_id-1})', f'=SUM(F2:F{row_id-1})', f'=SUM(D{row_id}:F{row_id})'])"
   ]
  },
  {
   "cell_type": "code",
   "execution_count": 234,
   "metadata": {},
   "outputs": [
    {
     "name": "stdout",
     "output_type": "stream",
     "text": [
      "Created a new sheet result: {'spreadsheetId': '1Ik2lyOO5MN9a8-hEUf4sRqUlP3WcN36ItekQSGV4NxY', 'replies': [{'addSheet': {'properties': {'sheetId': 477129512, 'title': 'June 2024', 'index': 12, 'sheetType': 'GRID', 'gridProperties': {'rowCount': 1000, 'columnCount': 26}}}}]}\n",
      "337 cells updated.\n",
      "Format sheet result: {'spreadsheetId': '1Ik2lyOO5MN9a8-hEUf4sRqUlP3WcN36ItekQSGV4NxY', 'replies': [{}, {}, {}]}\n"
     ]
    }
   ],
   "source": [
    "# Export to the spreadsheet.\n",
    "create_new_sheet_response = create_new_sheet(SPREADSHEET_ID, NEW_SHEET_NAME)\n",
    "sheet_id = create_new_sheet_response['replies'][0]['addSheet']['properties']['sheetId']\n",
    "write_response = write_content(SPREADSHEET_ID, NEW_SHEET_NAME, accumulated_content)\n",
    "format_sheet_response = format_sheet(SPREADSHEET_ID, sheet_id)"
   ]
  },
  {
   "cell_type": "markdown",
   "metadata": {},
   "source": [
    "### TODO\n",
    "- Classify the Regular, Trip and Hobby\n",
    "- Sort the transactions by date"
   ]
  }
 ],
 "metadata": {
  "kernelspec": {
   "display_name": "llm",
   "language": "python",
   "name": "python3"
  },
  "language_info": {
   "codemirror_mode": {
    "name": "ipython",
    "version": 3
   },
   "file_extension": ".py",
   "mimetype": "text/x-python",
   "name": "python",
   "nbconvert_exporter": "python",
   "pygments_lexer": "ipython3",
   "version": "3.11.5"
  }
 },
 "nbformat": 4,
 "nbformat_minor": 2
}
