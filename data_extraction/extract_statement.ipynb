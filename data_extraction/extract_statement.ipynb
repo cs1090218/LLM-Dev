{
 "cells": [
  {
   "cell_type": "code",
   "execution_count": 1,
   "metadata": {},
   "outputs": [],
   "source": [
    "%load_ext autoreload\n",
    "%autoreload 2\n",
    "\n",
    "import pdfplumber\n",
    "import re\n",
    "\n",
    "from utils import create_new_sheet, write_content, format_sheet\n",
    "\n",
    "import os\n",
    "os.remove('../google_token.json')"
   ]
  },
  {
   "cell_type": "code",
   "execution_count": 2,
   "metadata": {},
   "outputs": [],
   "source": [
    "############ Update the following parameters ##################\n",
    "FILEPATH = \"../data/May statement.pdf\"\n",
    "NEW_SHEET_NAME = \"May 2025\""
   ]
  },
  {
   "cell_type": "code",
   "execution_count": 3,
   "metadata": {},
   "outputs": [],
   "source": [
    "SPREADSHEET_ID = \"1Ik2lyOO5MN9a8-hEUf4sRqUlP3WcN36ItekQSGV4NxY\""
   ]
  },
  {
   "cell_type": "code",
   "execution_count": 4,
   "metadata": {},
   "outputs": [],
   "source": [
    "pdf_lines = []\n",
    "with pdfplumber.open(FILEPATH) as pdf:\n",
    "    for page_id in range(len(pdf.pages)):\n",
    "        page = pdf.pages[page_id]\n",
    "        pdf_lines.extend(page.extract_text_lines())\n",
    "pdf_lines = [line['text'] for line in pdf_lines]"
   ]
  },
  {
   "cell_type": "code",
   "execution_count": 5,
   "metadata": {},
   "outputs": [],
   "source": [
    "import pickle\n",
    "from sklearn.linear_model import LogisticRegression\n",
    "from sklearn.naive_bayes import MultinomialNB\n",
    "from sklearn.pipeline import Pipeline\n",
    "from sklearn.feature_extraction.text import CountVectorizer, TfidfTransformer\n",
    "\n",
    "# lr_model = Pipeline([('vect', CountVectorizer()),\n",
    "#                ('tfidf', TfidfTransformer()),\n",
    "#                ('clf', LogisticRegression(n_jobs=1, C=1e5)),\n",
    "#               ])\n",
    "\n",
    "lr_model = pickle.load(open('pickle/lr_model.pkl', 'rb'))"
   ]
  },
  {
   "cell_type": "code",
   "execution_count": 6,
   "metadata": {},
   "outputs": [],
   "source": [
    "id_to_label = {0: 'Regular', 1: 'Trip', 2: 'Hobby'}"
   ]
  },
  {
   "cell_type": "code",
   "execution_count": 7,
   "metadata": {},
   "outputs": [],
   "source": [
    "regex_pattern = \"^(\\d\\d/\\d\\d.*) (-*[\\d\\.,]+)$\"\n",
    "accumulated_content = []\n",
    "for line in pdf_lines:\n",
    "    if \"AUTOMATIC PAYMENT\" in line:\n",
    "        continue\n",
    "    re_search = re.search(regex_pattern, line)\n",
    "    if re_search is not None:\n",
    "        transaction_name = re_search.group(1)\n",
    "        expense_type_id = lr_model.predict([transaction_name])[0]\n",
    "        expense_type = id_to_label[expense_type_id] if expense_type_id in id_to_label else 'Regular'\n",
    "        cost = float(re_search.group(2).replace(',', ''))\n",
    "        accumulated_content.append([transaction_name, cost, expense_type])"
   ]
  },
  {
   "cell_type": "code",
   "execution_count": 8,
   "metadata": {},
   "outputs": [],
   "source": [
    "# Sort the content according to the transaction date\n",
    "accumulated_content = sorted(accumulated_content, key=lambda x: x[0].split(' ')[0])\n",
    "\n",
    "for i in range(len(accumulated_content)):\n",
    "    row_id = i + 2\n",
    "    regular_cost = f'=IF(C{row_id}=\"Regular\", B{row_id}, 0)'\n",
    "    trip_cost = f'=IF(C{row_id}=\"Trip\", B{row_id}, 0)'\n",
    "    hobby_cost = f'=IF(C{row_id}=\"Hobby\", B{row_id}, 0)'\n",
    "    accumulated_content[i].append(regular_cost)\n",
    "    accumulated_content[i].append(trip_cost)\n",
    "    accumulated_content[i].append(hobby_cost)\n",
    "\n",
    "accumulated_content = [['Transaction', 'Cost', 'Type', 'Regular expenses', 'Trip expenses', 'Hobby expenses']] + accumulated_content + [['', f'=SUM(B2:B{row_id})', '', f'=SUM(D2:D{row_id})', f'=SUM(E2:E{row_id})', f'=SUM(F2:F{row_id})', f'=SUM(D{row_id+1}:F{row_id+1})']]"
   ]
  },
  {
   "cell_type": "code",
   "execution_count": 9,
   "metadata": {},
   "outputs": [],
   "source": [
    "# Sort the content according to the transaction date\n",
    "# accumulated_content = [accumulated_content[0]] + sorted(accumulated_content[1:-1], key=lambda x: x[0].split(' ')[0]) + [accumulated_content[-1]]"
   ]
  },
  {
   "cell_type": "code",
   "execution_count": 10,
   "metadata": {},
   "outputs": [
    {
     "name": "stdout",
     "output_type": "stream",
     "text": [
      "Transaction***Cost***Type***Regular expenses***Trip expenses***Hobby expenses\n",
      "05/08 SAFEWAY #1990 SANTA CLARA CA***33.3***Regular***=IF(C2=\"Regular\", B2, 0)***=IF(C2=\"Trip\", B2, 0)***=IF(C2=\"Hobby\", B2, 0)\n",
      "05/09 MCDONALD'S F17109 REDWOOD CITY CA***11.19***Regular***=IF(C3=\"Regular\", B3, 0)***=IF(C3=\"Trip\", B3, 0)***=IF(C3=\"Hobby\", B3, 0)\n",
      "05/09 SP RACQUETSTORE.COM 140-82871099 CA***425.46***Regular***=IF(C4=\"Regular\", B4, 0)***=IF(C4=\"Trip\", B4, 0)***=IF(C4=\"Hobby\", B4, 0)\n",
      "05/10 DISH N DASH SAN JOSE DISHDASH.OLO. CA***75.27***Regular***=IF(C5=\"Regular\", B5, 0)***=IF(C5=\"Trip\", B5, 0)***=IF(C5=\"Hobby\", B5, 0)\n",
      "05/10 SQ *FIVE SPICE INDIAN GRO San Jose CA***132.91***Regular***=IF(C6=\"Regular\", B6, 0)***=IF(C6=\"Trip\", B6, 0)***=IF(C6=\"Hobby\", B6, 0)\n",
      "05/10 SAFEWAY #1990 SANTA CLARA CA***62.98***Regular***=IF(C7=\"Regular\", B7, 0)***=IF(C7=\"Trip\", B7, 0)***=IF(C7=\"Hobby\", B7, 0)\n",
      "05/10 THE HOME DEPOT 630 SANTA CLARA CA***14.4***Regular***=IF(C8=\"Regular\", B8, 0)***=IF(C8=\"Trip\", B8, 0)***=IF(C8=\"Hobby\", B8, 0)\n",
      "05/10 SAFEWAY #1990 SANTA CLARA CA***2.01***Regular***=IF(C9=\"Regular\", B9, 0)***=IF(C9=\"Trip\", B9, 0)***=IF(C9=\"Hobby\", B9, 0)\n",
      "05/11 SAFEWAY #1990 SANTA CLARA CA***14.5***Regular***=IF(C10=\"Regular\", B10, 0)***=IF(C10=\"Trip\", B10, 0)***=IF(C10=\"Hobby\", B10, 0)\n",
      "05/12 PINTS OF JOY SUNNYVALE CA***16.35***Regular***=IF(C11=\"Regular\", B11, 0)***=IF(C11=\"Trip\", B11, 0)***=IF(C11=\"Hobby\", B11, 0)\n",
      "05/14 SQ *CHULA PUEBLA TACO TRU Mountain View CA***37.73***Regular***=IF(C12=\"Regular\", B12, 0)***=IF(C12=\"Trip\", B12, 0)***=IF(C12=\"Hobby\", B12, 0)\n",
      "05/16 SAFEWAY #1990 SANTA CLARA CA***47.24***Regular***=IF(C13=\"Regular\", B13, 0)***=IF(C13=\"Trip\", B13, 0)***=IF(C13=\"Hobby\", B13, 0)\n",
      "05/16 TST*ANJAPAR MILPITAS Milpitas CA***33.26***Regular***=IF(C14=\"Regular\", B14, 0)***=IF(C14=\"Trip\", B14, 0)***=IF(C14=\"Hobby\", B14, 0)\n",
      "05/17 COMCAST CALIFORNIA 800-COMCAST CA***74.37***Regular***=IF(C15=\"Regular\", B15, 0)***=IF(C15=\"Trip\", B15, 0)***=IF(C15=\"Hobby\", B15, 0)\n",
      "05/18 DD *DOORDASH THEPORTOF 855-431-0459 CA***40.96***Regular***=IF(C16=\"Regular\", B16, 0)***=IF(C16=\"Trip\", B16, 0)***=IF(C16=\"Hobby\", B16, 0)\n",
      "05/18 CS* EL CAMINO COURSESTORM.C ME***52.49***Trip***=IF(C17=\"Regular\", B17, 0)***=IF(C17=\"Trip\", B17, 0)***=IF(C17=\"Hobby\", B17, 0)\n",
      "05/18 PPY*LAKSHMI SATHYA MD 650-6660033 CA***345.72***Regular***=IF(C18=\"Regular\", B18, 0)***=IF(C18=\"Trip\", B18, 0)***=IF(C18=\"Hobby\", B18, 0)\n",
      "05/19 CVS/PHARMACY #00422 SAN JOSE CA***17.48***Regular***=IF(C19=\"Regular\", B19, 0)***=IF(C19=\"Trip\", B19, 0)***=IF(C19=\"Hobby\", B19, 0)\n",
      "05/19 CHIPOTLE MEX GR ONLINE https://prod. CA***28.7***Regular***=IF(C20=\"Regular\", B20, 0)***=IF(C20=\"Trip\", B20, 0)***=IF(C20=\"Hobby\", B20, 0)\n",
      "05/20 DD *DOORDASH BRUNDAVAN 855-431-0459 CA***69.63***Regular***=IF(C21=\"Regular\", B21, 0)***=IF(C21=\"Trip\", B21, 0)***=IF(C21=\"Hobby\", B21, 0)\n",
      "05/20 IPHO RESTAURANT SAN JOSE CA***250.71***Regular***=IF(C22=\"Regular\", B22, 0)***=IF(C22=\"Trip\", B22, 0)***=IF(C22=\"Hobby\", B22, 0)\n",
      "05/20 IPHO RESTAURANT SAN JOSE CA***162.63***Regular***=IF(C23=\"Regular\", B23, 0)***=IF(C23=\"Trip\", B23, 0)***=IF(C23=\"Hobby\", B23, 0)\n",
      "05/20 SAFEWAY #1990 SANTA CLARA CA***7.68***Regular***=IF(C24=\"Regular\", B24, 0)***=IF(C24=\"Trip\", B24, 0)***=IF(C24=\"Hobby\", B24, 0)\n",
      "05/20 ROTTEN ROBBIE #33 SANTA CLARA CA***49.44***Regular***=IF(C25=\"Regular\", B25, 0)***=IF(C25=\"Trip\", B25, 0)***=IF(C25=\"Hobby\", B25, 0)\n",
      "05/22 GOOGLE *YouTubePremium g.co/helppay# CA***22.99***Regular***=IF(C26=\"Regular\", B26, 0)***=IF(C26=\"Trip\", B26, 0)***=IF(C26=\"Hobby\", B26, 0)\n",
      "05/24 SQ *CHIKIN DRIP san jose CA***33.29***Regular***=IF(C27=\"Regular\", B27, 0)***=IF(C27=\"Trip\", B27, 0)***=IF(C27=\"Hobby\", B27, 0)\n",
      "05/24 SANTA CLARA UTILITIES 408-615-2300 CA***91.22***Regular***=IF(C28=\"Regular\", B28, 0)***=IF(C28=\"Trip\", B28, 0)***=IF(C28=\"Hobby\", B28, 0)\n",
      "05/24 TARGET 00025817 SAN JOSE CA***132.3***Regular***=IF(C29=\"Regular\", B29, 0)***=IF(C29=\"Trip\", B29, 0)***=IF(C29=\"Hobby\", B29, 0)\n",
      "05/26 Netflix.com netflix.com CA***7.99***Regular***=IF(C30=\"Regular\", B30, 0)***=IF(C30=\"Trip\", B30, 0)***=IF(C30=\"Hobby\", B30, 0)\n",
      "05/26 TST* PARIS BAGUETTE - SAN SANTA CLARA CA***26.92***Regular***=IF(C31=\"Regular\", B31, 0)***=IF(C31=\"Trip\", B31, 0)***=IF(C31=\"Hobby\", B31, 0)\n",
      "05/26 Nyx*8336322778 ELECTRIFY HUNT VALLEY MD***12.67***Trip***=IF(C32=\"Regular\", B32, 0)***=IF(C32=\"Trip\", B32, 0)***=IF(C32=\"Hobby\", B32, 0)\n",
      "05/26 MOUNTAIN MIKES PIZZA DISCOVERY BAY CA***3.48***Hobby***=IF(C33=\"Regular\", B33, 0)***=IF(C33=\"Trip\", B33, 0)***=IF(C33=\"Hobby\", B33, 0)\n",
      "05/26 MOUNTAIN MIKES PIZZA DISCOVERY BAY CA***25.05***Hobby***=IF(C34=\"Regular\", B34, 0)***=IF(C34=\"Trip\", B34, 0)***=IF(C34=\"Hobby\", B34, 0)\n",
      "05/27 GOOGLE *WM Max LLC 855-836-3987 CA***20.99***Regular***=IF(C35=\"Regular\", B35, 0)***=IF(C35=\"Trip\", B35, 0)***=IF(C35=\"Hobby\", B35, 0)\n",
      "05/27 Cinemark 800-2463627 TX***11.99***Regular***=IF(C36=\"Regular\", B36, 0)***=IF(C36=\"Trip\", B36, 0)***=IF(C36=\"Hobby\", B36, 0)\n",
      "05/29 DD *DOORDASH MYINDIANP 855-431-0459 CA***50.12***Regular***=IF(C37=\"Regular\", B37, 0)***=IF(C37=\"Trip\", B37, 0)***=IF(C37=\"Hobby\", B37, 0)\n",
      "05/29 PINTS OF JOY SUNNYVALE CA***18.8***Regular***=IF(C38=\"Regular\", B38, 0)***=IF(C38=\"Trip\", B38, 0)***=IF(C38=\"Hobby\", B38, 0)\n",
      "05/30 KHOOBSURAT THREADING SALO SANTA CLARA CA***17.51***Regular***=IF(C39=\"Regular\", B39, 0)***=IF(C39=\"Trip\", B39, 0)***=IF(C39=\"Hobby\", B39, 0)\n",
      "05/30 KHOOBSURAT THREADING SALO SANTA CLARA CA***14.42***Regular***=IF(C40=\"Regular\", B40, 0)***=IF(C40=\"Trip\", B40, 0)***=IF(C40=\"Hobby\", B40, 0)\n",
      "05/30 SAFEWAY #1990 SANTA CLARA CA***22.42***Regular***=IF(C41=\"Regular\", B41, 0)***=IF(C41=\"Trip\", B41, 0)***=IF(C41=\"Hobby\", B41, 0)\n",
      "05/30 DD *DOORDASH THEYELLOW 855-431-0459 CA***66.78***Regular***=IF(C42=\"Regular\", B42, 0)***=IF(C42=\"Trip\", B42, 0)***=IF(C42=\"Hobby\", B42, 0)\n",
      "05/31 SAFEWAY #1990 SANTA CLARA CA***48.64***Regular***=IF(C43=\"Regular\", B43, 0)***=IF(C43=\"Trip\", B43, 0)***=IF(C43=\"Hobby\", B43, 0)\n",
      "05/31 TARGET 00025817 SAN JOSE CA***43.74***Regular***=IF(C44=\"Regular\", B44, 0)***=IF(C44=\"Trip\", B44, 0)***=IF(C44=\"Hobby\", B44, 0)\n",
      "06/01 Monterey Bay Aquarium Monterey CA***130.0***Regular***=IF(C45=\"Regular\", B45, 0)***=IF(C45=\"Trip\", B45, 0)***=IF(C45=\"Hobby\", B45, 0)\n",
      "06/01 Nyx*8336322778 ELECTRIFY HUNT VALLEY MD***22.78***Trip***=IF(C46=\"Regular\", B46, 0)***=IF(C46=\"Trip\", B46, 0)***=IF(C46=\"Hobby\", B46, 0)\n",
      "06/01 MCDONALD'S F12464 GILROY CA***14.27***Regular***=IF(C47=\"Regular\", B47, 0)***=IF(C47=\"Trip\", B47, 0)***=IF(C47=\"Hobby\", B47, 0)\n",
      "06/01 SAFEWAY #1990 SANTA CLARA CA***5.27***Regular***=IF(C48=\"Regular\", B48, 0)***=IF(C48=\"Trip\", B48, 0)***=IF(C48=\"Hobby\", B48, 0)\n",
      "06/01 SAFEWAY #0761 PACIFIC GROVE CA***5.99***Regular***=IF(C49=\"Regular\", B49, 0)***=IF(C49=\"Trip\", B49, 0)***=IF(C49=\"Hobby\", B49, 0)\n",
      "06/01 SSA MONTEREY GIFT & BOOK MONTEREY CA***38.23***Regular***=IF(C50=\"Regular\", B50, 0)***=IF(C50=\"Trip\", B50, 0)***=IF(C50=\"Hobby\", B50, 0)\n",
      "06/01 ANNUAL MEMBERSHIP FEE***550.0***Regular***=IF(C51=\"Regular\", B51, 0)***=IF(C51=\"Trip\", B51, 0)***=IF(C51=\"Hobby\", B51, 0)\n",
      "06/01 ANNUAL MEMBERSHIP FEE***75.0***Regular***=IF(C52=\"Regular\", B52, 0)***=IF(C52=\"Trip\", B52, 0)***=IF(C52=\"Hobby\", B52, 0)\n",
      "06/02 MONTEREY CR LOTS 8316463953 CA***20.0***Regular***=IF(C53=\"Regular\", B53, 0)***=IF(C53=\"Trip\", B53, 0)***=IF(C53=\"Hobby\", B53, 0)\n",
      "06/03 SAFEWAY #1990 SANTA CLARA CA***18.99***Regular***=IF(C54=\"Regular\", B54, 0)***=IF(C54=\"Trip\", B54, 0)***=IF(C54=\"Hobby\", B54, 0)\n",
      "06/06 CITYOF SANTA CLARA SANTA CLARA CA***160.0***Regular***=IF(C55=\"Regular\", B55, 0)***=IF(C55=\"Trip\", B55, 0)***=IF(C55=\"Hobby\", B55, 0)\n",
      "06/06 SQ *FIVE SPICE INDIAN GRO San Jose CA***123.98***Regular***=IF(C56=\"Regular\", B56, 0)***=IF(C56=\"Trip\", B56, 0)***=IF(C56=\"Hobby\", B56, 0)\n",
      "06/07 Nyx*8336322778 ELECTRIFY HUNT VALLEY MD***17.19***Trip***=IF(C57=\"Regular\", B57, 0)***=IF(C57=\"Trip\", B57, 0)***=IF(C57=\"Hobby\", B57, 0)\n",
      "06/07 Nyx*8336322778 ELECTRIFY HUNT VALLEY MD***24.75***Trip***=IF(C58=\"Regular\", B58, 0)***=IF(C58=\"Trip\", B58, 0)***=IF(C58=\"Hobby\", B58, 0)\n",
      "06/07 SQ *UME TEA Santa Clara CA***9.3***Regular***=IF(C59=\"Regular\", B59, 0)***=IF(C59=\"Trip\", B59, 0)***=IF(C59=\"Hobby\", B59, 0)\n",
      "06/07 EXPEDIA 73131716598204 EXPEDIA.COM WA***375.6***Trip***=IF(C60=\"Regular\", B60, 0)***=IF(C60=\"Trip\", B60, 0)***=IF(C60=\"Hobby\", B60, 0)\n",
      "06/07 SQ *PLAZUELAS MEXICAN RES Oakhurst CA***62.3***Regular***=IF(C61=\"Regular\", B61, 0)***=IF(C61=\"Trip\", B61, 0)***=IF(C61=\"Hobby\", B61, 0)\n",
      "06/07 RALEY'S #340 OAKHURST CA***7.21***Regular***=IF(C62=\"Regular\", B62, 0)***=IF(C62=\"Trip\", B62, 0)***=IF(C62=\"Hobby\", B62, 0)\n",
      "06/08 Nyx*8336322778 ELECTRIFY HUNT VALLEY MD***15.28***Trip***=IF(C63=\"Regular\", B63, 0)***=IF(C63=\"Trip\", B63, 0)***=IF(C63=\"Hobby\", B63, 0)\n",
      "06/08 YOSEMITE NP EL PORTAL CA***35.0***Regular***=IF(C64=\"Regular\", B64, 0)***=IF(C64=\"Trip\", B64, 0)***=IF(C64=\"Hobby\", B64, 0)\n",
      "***=SUM(B2:B64)******=SUM(D2:D64)***=SUM(E2:E64)***=SUM(F2:F64)***=SUM(D65:F65)\n"
     ]
    }
   ],
   "source": [
    "s = \"\"\n",
    "for row in accumulated_content:\n",
    "    print('***'.join([str(item) for item in row]))\n"
   ]
  },
  {
   "cell_type": "code",
   "execution_count": 11,
   "metadata": {},
   "outputs": [
    {
     "data": {
      "text/plain": [
       "''"
      ]
     },
     "execution_count": 11,
     "metadata": {},
     "output_type": "execute_result"
    }
   ],
   "source": [
    "s"
   ]
  },
  {
   "cell_type": "code",
   "execution_count": 12,
   "metadata": {},
   "outputs": [
    {
     "name": "stdout",
     "output_type": "stream",
     "text": [
      "Please visit this URL to authorize this application: https://accounts.google.com/o/oauth2/auth?response_type=code&client_id=694301136407-7lfplojamr3flfdqoo629e5mf15pv8s7.apps.googleusercontent.com&redirect_uri=http%3A%2F%2Flocalhost%3A51783%2F&scope=https%3A%2F%2Fwww.googleapis.com%2Fauth%2Fspreadsheets&state=LQGVXEDLvpkbuiciF5Qd9dsMxeKAF1&access_type=offline\n",
      "Created a new sheet result: {'spreadsheetId': '1Ik2lyOO5MN9a8-hEUf4sRqUlP3WcN36ItekQSGV4NxY', 'replies': [{'addSheet': {'properties': {'sheetId': 457293470, 'title': 'May 2025', 'index': 23, 'sheetType': 'GRID', 'gridProperties': {'rowCount': 1000, 'columnCount': 26}}}}]}\n",
      "Exported content to 391 cells.\n",
      "Format sheet result: {'spreadsheetId': '1Ik2lyOO5MN9a8-hEUf4sRqUlP3WcN36ItekQSGV4NxY', 'replies': [{}, {}, {}]}\n"
     ]
    }
   ],
   "source": [
    "# Export to the spreadsheet.\n",
    "create_new_sheet_response = create_new_sheet(SPREADSHEET_ID, NEW_SHEET_NAME)\n",
    "sheet_id = create_new_sheet_response['replies'][0]['addSheet']['properties']['sheetId']\n",
    "write_response = write_content(SPREADSHEET_ID, NEW_SHEET_NAME, accumulated_content)\n",
    "format_sheet_response = format_sheet(SPREADSHEET_ID, sheet_id)"
   ]
  }
 ],
 "metadata": {
  "kernelspec": {
   "display_name": "llm",
   "language": "python",
   "name": "python3"
  },
  "language_info": {
   "codemirror_mode": {
    "name": "ipython",
    "version": 3
   },
   "file_extension": ".py",
   "mimetype": "text/x-python",
   "name": "python",
   "nbconvert_exporter": "python",
   "pygments_lexer": "ipython3",
   "version": "3.11.5"
  }
 },
 "nbformat": 4,
 "nbformat_minor": 2
}
