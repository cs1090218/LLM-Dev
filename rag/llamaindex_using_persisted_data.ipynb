{
 "cells": [
  {
   "cell_type": "markdown",
   "metadata": {},
   "source": [
    "### Based on:\n",
    "https://docs.llamaindex.ai/en/stable/presentations/materials/2024-02-28-rag-bootcamp-vector-institute/?h=rag\n",
    "\n",
    "- Use this notebook if you want to use OpenAI's LLM and embeddings\n",
    "- Here we use the pickled embeddings, so we save the cost there and only incur the LLM query cost"
   ]
  },
  {
   "cell_type": "code",
   "execution_count": 25,
   "metadata": {},
   "outputs": [],
   "source": [
    "import os\n",
    "import nest_asyncio\n",
    "\n",
    "nest_asyncio.apply()"
   ]
  },
  {
   "cell_type": "code",
   "execution_count": 26,
   "metadata": {},
   "outputs": [],
   "source": [
    "USE_OPENAI = True"
   ]
  },
  {
   "cell_type": "code",
   "execution_count": 27,
   "metadata": {},
   "outputs": [],
   "source": [
    "from llama_index.core import Settings\n",
    "from llama_index.llms.openai import OpenAI\n",
    "from llama_index.embeddings.openai import OpenAIEmbedding\n",
    "from llama_index.llms.ollama import Ollama\n",
    "from llama_index.embeddings.ollama import OllamaEmbedding\n",
    "from llama_index.core.node_parser import SentenceSplitter\n",
    "\n",
    "if USE_OPENAI:\n",
    "    Settings.llm = OpenAI(model=\"gpt-3.5-turbo\", api_key=os.getenv('OPENAI_API_KEY'))\n",
    "    Settings.embed_model = OpenAIEmbedding(model=\"text-embedding-ada-002\")\n",
    "else:\n",
    "    Settings.llm = Ollama(model=\"llama3:instruct\", request_timeout=120.0)\n",
    "    Settings.embed_model = OllamaEmbedding(\n",
    "        model_name=\"llama3:instruct\",\n",
    "        base_url=\"http://localhost:11434\",\n",
    "        ollama_additional_kwargs={\"mirostat\": 0})\n",
    "\n",
    "Settings.node_parser = SentenceSplitter(chunk_size=512, chunk_overlap=20)"
   ]
  },
  {
   "cell_type": "code",
   "execution_count": 28,
   "metadata": {},
   "outputs": [],
   "source": [
    "from llama_index.core import VectorStoreIndex\n",
    "from llama_index.core import StorageContext, load_index_from_storage\n",
    "\n",
    "storage_context = StorageContext.from_defaults(persist_dir=\"models/openAI_idpp_metagpt_state\")\n",
    "index = load_index_from_storage(storage_context=storage_context)"
   ]
  },
  {
   "cell_type": "code",
   "execution_count": 29,
   "metadata": {},
   "outputs": [],
   "source": [
    "retriever = index.as_retriever(similarity_top_k=2)\n",
    "retrieved_nodes = retriever.retrieve(\"What did the president say about Justice Breyer?\")"
   ]
  },
  {
   "cell_type": "code",
   "execution_count": 30,
   "metadata": {},
   "outputs": [
    {
     "name": "stdout",
     "output_type": "stream",
     "text": [
      "I ask Democrats and Republicans alike to pass my budget and keep our neighborhoods safe.\n",
      "\n",
      "And we’ll do everything in my power to crack down on gun trafficking of ghost guns that you can buy online, assemble at home — no serial numbers, can’t be traced.\n",
      "\n",
      "I ask Congress to pass proven measures to reduce gun violence. Pass universal background checks. Why should anyone on the terrorist list be able to purchase a weapon. Why? Why?\n",
      "\n",
      "And, folks, ban assault weapons with high-capacity magazines that hold up to 100 rounds. You think the deer are wearing Kevlar vests?\n",
      "\n",
      "Look, repeal the liability shield that makes gun manufacturers the only industry in America that can’t be sued — the only one. Imagine had we done that with the tobacco manufactures.\n",
      "\n",
      "These laws don’t infringe on the Second Amendment; they save lives.\n",
      "\n",
      "The most fundamental right in America is the right to vote and have it counted. And look, it’s under assault.\n",
      "\n",
      "In state after state, new laws have been passed not only to suppress the vote — we’ve been there before — but to subvert the entire election. We can’t let this happen.\n",
      "\n",
      "Tonight, I call on the Senate to pass — pass the Freedom to Vote Act. Pass the John Lewis Act — Voting Rights Act. And while you’re at it, pass the DISCLOSE Act so Americans know who is funding our elections.\n",
      "\n",
      "Look, tonight, I’d — I’d like to honor someone who has dedicated his life to serve this country: Justice Breyer — an Army veteran, Constitutional scholar, retiring Justice of the United States Supreme Court.\n",
      "\n",
      "Justice Breyer, thank you for your service. Thank you, thank you, thank you. I mean it. Get up. Stand — let me see you. Thank you.\n",
      "\n",
      "And we all know — no matter what your ideology, we all know one of the most serious constitutional responsibilities a President has is nominating someone to serve on the United States Supreme Court.\n",
      "\n",
      "As I did four days ago, I’ve nominated a Circuit Court of Appeals — Ketanji Brown Jackson. One of our nation’s top legal minds who will continue in just Brey- — Justice Breyer’s legacy of excellence. A former top litigator in private practice, a former federal public defender from a family of public-school educators and police officers — she’s a consensus builder.\n",
      "================\n",
      "Since she’s been nominated, she’s received a broad range of support, including the Fraternal Order of Police and former judges appointed by Democrats and Republicans.\n",
      "\n",
      "Since she’s been nominated, she’s received a broad range of support, including the Fraternal Order of Police and former judges appointed by Democrats and Republicans.\n",
      "\n",
      "Folks, if we are to advance liberty and justice, we need to secure our border and fix the immigration system.\n",
      "\n",
      "And as you might guess, I think we can do both. At our border, we’ve installed new technology, like cutting-edge scanners, to better detect drug smuggling.\n",
      "\n",
      "We’ve set up joint patrols with Mexico and Guatemala to catch more human traffickers.\n",
      "\n",
      "We’re putting in place dedicated immigration judges in significant larger number so families fleeing persecution and violence can have their cases — cases heard faster — and those who aren’t legitimately here can be sent back.\n",
      "\n",
      "We’re screening — we’re securing commitments and supporting partners in South and Central America to host more refugees and secure their own borders.\n",
      "\n",
      "We can do all this while keeping lit the torch of liberty that has led the generation of immigrants to this land — my forebearers and many of yours.\n",
      "\n",
      "Provide a pathway to citizenship for Dreamers — those with temporary status, farmworkers, essential workers. To revise our laws so businesses have workers they need and families don’t wait decades to reunite.\n",
      "\n",
      "It’s not only the right thing to do, it’s economically smart thing to do. That’s why the immigration reform is supported by everyone from labor unions to religious leaders to the U.S. Chamber of Commerce. Let’s get it done once and for all.\n",
      "\n",
      "Folks, advancing liberty and justice also requires protecting the rights of women. The constitutional right affirmed by Roe v. Wade, standing precedent for half a century, is under attack as never before.\n",
      "\n",
      "If you want to go forward not backwards, we must protect access to healthcare; preserve a woman’s right to choose — and continue to advance maternal healthcare for all Americans.\n",
      "\n",
      "And folks, for our LGBTQ+ Americans, let’s finally get the bipartisan Equality Act to my desk. The onslaught of state laws targeting transgender Americans and their families — it’s simply wrong.\n",
      "\n",
      "As I said last year, especially to our younger transgender Americans, I’ll always have your back as your President so you can be yourself and reach your God-given potential.\n"
     ]
    }
   ],
   "source": [
    "# to view the retrieved node\n",
    "print (retrieved_nodes[0].text)\n",
    "print (\"================\")\n",
    "print (retrieved_nodes[1].text)"
   ]
  },
  {
   "cell_type": "code",
   "execution_count": 31,
   "metadata": {},
   "outputs": [],
   "source": [
    "query_engine = index.as_query_engine(similarity_top_k=2)"
   ]
  },
  {
   "cell_type": "code",
   "execution_count": 32,
   "metadata": {},
   "outputs": [
    {
     "name": "stdout",
     "output_type": "stream",
     "text": [
      "The models tried for predicting ALS progression in the idpp paper included a naive model that carried the last observed value forward, various Machine Learning algorithms for regression, and a Long Short-Term Memory (LSTM) neural network to model the temporal dependencies in the sequential sensor data.\n"
     ]
    }
   ],
   "source": [
    "response = query_engine.query(\"What were the models tried for predicting ALS progression in the idpp paper?.\")\n",
    "print (response)"
   ]
  },
  {
   "cell_type": "code",
   "execution_count": 33,
   "metadata": {},
   "outputs": [
    {
     "name": "stdout",
     "output_type": "stream",
     "text": [
      "The authors in the idpp paper used Grid search with cross validation on the entire training data to select the model that gave the best validation set RMSE.\n"
     ]
    }
   ],
   "source": [
    "response = query_engine.query(\"What was the validation strategy used by the authors in the idpp paper?.\")\n",
    "print (response)"
   ]
  },
  {
   "cell_type": "code",
   "execution_count": 34,
   "metadata": {},
   "outputs": [
    {
     "name": "stdout",
     "output_type": "stream",
     "text": [
      "The ElasticNet + Naive model performed the best with the lowest RMSE of 0.5048 in the idpp paper.\n"
     ]
    }
   ],
   "source": [
    "response = query_engine.query(\"Which model performed the best with lowest RMSE in the idpp paper?.\")\n",
    "print (response)"
   ]
  },
  {
   "cell_type": "code",
   "execution_count": 35,
   "metadata": {},
   "outputs": [
    {
     "name": "stdout",
     "output_type": "stream",
     "text": [
      "The president expressed gratitude and appreciation for Justice Breyer's service to the country, acknowledging his dedication and service as a retiring Justice of the United States Supreme Court.\n"
     ]
    }
   ],
   "source": [
    "response = query_engine.query(\"What did the president say about Justice Breyer\")\n",
    "print (response)"
   ]
  },
  {
   "cell_type": "code",
   "execution_count": 36,
   "metadata": {},
   "outputs": [
    {
     "name": "stdout",
     "output_type": "stream",
     "text": [
      "Agents in MetaGPT share information with other agents by utilizing a shared message pool. This shared message pool allows all agents to exchange messages directly, enabling them to publish their structured messages and access messages from other entities transparently. By storing information in this global message pool, agents can retrieve required information without the need to inquire about other agents individually, thus enhancing communication efficiency.\n"
     ]
    }
   ],
   "source": [
    "response = query_engine.query(\"How do agents share information with other agents in MetaGPT?\")\n",
    "print (response)"
   ]
  }
 ],
 "metadata": {
  "kernelspec": {
   "display_name": "idpp-clef-2024-2",
   "language": "python",
   "name": "python3"
  },
  "language_info": {
   "codemirror_mode": {
    "name": "ipython",
    "version": 3
   },
   "file_extension": ".py",
   "mimetype": "text/x-python",
   "name": "python",
   "nbconvert_exporter": "python",
   "pygments_lexer": "ipython3",
   "version": "3.11.7"
  }
 },
 "nbformat": 4,
 "nbformat_minor": 2
}
