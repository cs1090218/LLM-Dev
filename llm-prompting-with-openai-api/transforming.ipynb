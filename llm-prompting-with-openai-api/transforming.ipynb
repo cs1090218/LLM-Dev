{
 "cells": [
  {
   "cell_type": "markdown",
   "id": "e3993515-9710-4ac4-89e9-b35ebb81e920",
   "metadata": {
    "id": "rhqRhkElpJ0z"
   },
   "source": [
    "# Transforming\n",
    "\n",
    "In this notebook, we will explore how to use Large Language Models for text transformation tasks such as language translation, spelling and grammar checking, tone adjustment, and format conversion.\n",
    "\n",
    "## Setup"
   ]
  },
  {
   "cell_type": "code",
   "execution_count": 1,
   "id": "41df0348",
   "metadata": {
    "height": 132,
    "tags": []
   },
   "outputs": [
    {
     "name": "stdout",
     "output_type": "stream",
     "text": [
      "OpenAI version: 1.30.5\n"
     ]
    }
   ],
   "source": [
    "import openai\n",
    "import os\n",
    "\n",
    "print (\"OpenAI version:\", openai.__version__)\n",
    "OPENAI_KEY = os.getenv('OPENAI_API_KEY')"
   ]
  },
  {
   "cell_type": "code",
   "execution_count": 2,
   "id": "6a85ee0f",
   "metadata": {
    "height": 149,
    "tags": []
   },
   "outputs": [],
   "source": [
    "# client = openai.OpenAI(api_key=OPENAI_KEY)\n",
    "client = openai.OpenAI(\n",
    "    base_url = 'http://localhost:11434/v1',\n",
    "    api_key='ollama', # required, but unused\n",
    ")\n",
    "\n",
    "def get_completion(prompt, model=\"llama3\"):\n",
    "    messages = [{\"role\": \"user\", \"content\": prompt}]\n",
    "    response = client.chat.completions.create(\n",
    "        model=model,\n",
    "        messages=messages,\n",
    "        temperature=0\n",
    "    )\n",
    "    return response.choices[0].message.content"
   ]
  },
  {
   "cell_type": "markdown",
   "id": "1d8f0bd8-628e-4c36-bcd0-2110162f25fc",
   "metadata": {
    "id": "zdxC4c6pwqA5"
   },
   "source": [
    "## Translation\n",
    "\n",
    "ChatGPT is trained with sources in many languages. This gives the model the ability to do translation. Here are some examples of how to use this capability."
   ]
  },
  {
   "cell_type": "code",
   "execution_count": 17,
   "id": "9c4df6ff",
   "metadata": {
    "height": 115,
    "tags": []
   },
   "outputs": [
    {
     "name": "stdout",
     "output_type": "stream",
     "text": [
      "Hola, me gustaría ordenar una ensalada.\n"
     ]
    }
   ],
   "source": [
    "prompt = f\"\"\"\n",
    "Translate the following English text to Spanish: \\ \n",
    "```Hi, I would like to order a salad```\n",
    "\n",
    "Do not output anything else.\n",
    "\"\"\"\n",
    "response = get_completion(prompt)\n",
    "print(response)"
   ]
  },
  {
   "cell_type": "code",
   "execution_count": 16,
   "id": "7300ed9b",
   "metadata": {
    "height": 115,
    "tags": []
   },
   "outputs": [
    {
     "name": "stdout",
     "output_type": "stream",
     "text": [
      "French\n"
     ]
    }
   ],
   "source": [
    "prompt = f\"\"\"\n",
    "Tell me which language this is: \n",
    "```Combien coûte le lampadaire?```\n",
    "\n",
    "Do not output anything else.\n",
    "\"\"\"\n",
    "response = get_completion(prompt)\n",
    "print(response)"
   ]
  },
  {
   "cell_type": "code",
   "execution_count": 18,
   "id": "791e789b",
   "metadata": {
    "height": 132,
    "tags": []
   },
   "outputs": [
    {
     "name": "stdout",
     "output_type": "stream",
     "text": [
      "French:\n",
      "Je veux commander un panier à basket.\n",
      "\n",
      "Spanish:\n",
      "Quiero ordenar una canasta de baloncesto.\n",
      "\n",
      "English (Pirate):\n",
      "Arr, I be wantin' to order yerself a hoop-ball basket!\n"
     ]
    }
   ],
   "source": [
    "prompt = f\"\"\"\n",
    "Translate the following  text to French and Spanish\n",
    "and English pirate: \\\n",
    "```I want to order a basketball```\n",
    "\n",
    "Do not output anything else.\n",
    "\"\"\"\n",
    "response = get_completion(prompt)\n",
    "print(response)"
   ]
  },
  {
   "cell_type": "code",
   "execution_count": 20,
   "id": "fcf7eb63",
   "metadata": {
    "height": 132,
    "tags": []
   },
   "outputs": [
    {
     "name": "stdout",
     "output_type": "stream",
     "text": [
      "Formal:\n",
      "¿Le gustaría ordenar un almohadón?\n",
      "\n",
      "Informal:\n",
      "¿Quieres pedir un almohadón?\n"
     ]
    }
   ],
   "source": [
    "prompt = f\"\"\"\n",
    "Translate the following text to Spanish in both the \\\n",
    "formal and informal forms: \n",
    "'Would you like to order a pillow?'\n",
    "\n",
    "Do not output anything else.\n",
    "\"\"\"\n",
    "response = get_completion(prompt)\n",
    "print(response)"
   ]
  },
  {
   "cell_type": "markdown",
   "id": "8edb56d2-a32a-470f-9f40-4fc5b1ea0849",
   "metadata": {
    "id": "-hN2bczQrRC1"
   },
   "source": [
    "### Universal Translator\n",
    "Imagine you are in charge of IT at a large multinational e-commerce company. Users are messaging you with IT issues in all their native languages. Your staff is from all over the world and speaks only their native languages. You need a universal translator!"
   ]
  },
  {
   "cell_type": "code",
   "execution_count": 7,
   "id": "68a40bf0",
   "metadata": {
    "height": 132,
    "tags": []
   },
   "outputs": [],
   "source": [
    "user_messages = [\n",
    "  \"La performance du système est plus lente que d'habitude.\",  # System performance is slower than normal         \n",
    "  \"Mi monitor tiene píxeles que no se iluminan.\",              # My monitor has pixels that are not lighting\n",
    "  \"Il mio mouse non funziona\",                                 # My mouse is not working\n",
    "  \"Mój klawisz Ctrl jest zepsuty\",                             # My keyboard has a broken control key\n",
    "  \"我的屏幕在闪烁\"                                               # My screen is flashing\n",
    "] "
   ]
  },
  {
   "cell_type": "code",
   "execution_count": 8,
   "id": "552d0db9",
   "metadata": {
    "height": 200,
    "tags": []
   },
   "outputs": [
    {
     "name": "stdout",
     "output_type": "stream",
     "text": [
      "Original message (This text is in French.): La performance du système est plus lente que d'habitude.\n",
      "English translation:\n",
      "\n",
      "\"The system's performance is slower than usual.\"\n",
      "\n",
      "Korean translation:\n",
      "\n",
      "\n",
      "\n",
      "(Li-si-teu-eui pyeong-seong-i kka-ma-yeo-yo) \n",
      "\n",
      "Original message (A Spanish sentence!\n",
      "\n",
      "Here's a breakdown:\n",
      "\n",
      "* \"Mi\" means \"my\"\n",
      "* \"monitor\" means \"monitor\" (as in, a computer monitor)\n",
      "* \"tiene\" is the verb \"to have\" in the third person singular present tense\n",
      "* \"píxeles\" means \"pixels\"\n",
      "* \"que\" is a conjunction meaning \"that\" or \"which\"\n",
      "* \"no se iluminan\" is the phrase \"do not illuminate themselves\", where:\n",
      "\t+ \"no\" means \"not\"\n",
      "\t+ \"se\" is the reflexive pronoun \"oneself\"\n",
      "\t+ \"iluminan\" is the verb \"to illuminate\" in the third person plural present tense\n",
      "\n",
      "So, the sentence translates to: \"My monitor has pixels that don't light up.\"): Mi monitor tiene píxeles que no se iluminan.\n",
      "English translation:\n",
      "\n",
      "\"My monitor has pixels that don't light up.\"\n",
      "\n",
      "Korean translation:\n",
      "\n",
      "\n",
      "\n",
      "(Myeo moniteo-neun pikeuseu ga neomu eop-se-yo) - \"My monitor doesn't have lit-up pixels.\" \n",
      "\n",
      "Original message (A simple one!\n",
      "\n",
      "This is Italian. Specifically, it translates to \"My mouse doesn't work\".): Il mio mouse non funziona\n",
      "Here are the translations:\n",
      "\n",
      "**English:** My mouse doesn't work.\n",
      "\n",
      "**Korean:** 내 마우스가 작동하지 않아요 (nae ma-oose-ga jak-dong-haji an-yo)\n",
      "\n",
      "Note: In Korean, the phrase \"doesn't work\" is often translated as \"\" (jak-dong-haji), which literally means \"does not operate\". The polite suffix \"-yo\" is added to make the sentence more polite. \n",
      "\n",
      "Original message (This is Polish.): Mój klawisz Ctrl jest zepsuty\n",
      "English translation:\n",
      "\n",
      "\"My Control key is broken\"\n",
      "\n",
      "Korean translation:\n",
      "\n",
      "\n",
      "\n",
      "(Ma-eui geon-ryeok-eun pyeong-gwa-hamyeo issna-yo) \n",
      "\n",
      "Original message (This appears to be written in Simplified Chinese, also known as Mandarin Chinese. The characters are:\n",
      "\n",
      "* 我的 (wǒ de) - my\n",
      "* 屏幕 (píng mù) - screen\n",
      "* 在 (zài) - is/are located at/in\n",
      "* 闪烁 (shǎn shì) - flashing\n",
      "\n",
      "So the entire phrase translates to \"My screen is flashing.\"): 我的屏幕在闪烁\n",
      "English translation:\n",
      "\n",
      "\"My screen is flashing.\"\n",
      "\n",
      "Korean translation:\n",
      "\n",
      "\"나의 스크린은 깜박하고 있습니다.\" (na-ui seukrin-eun kham-bak-ham-gwa iss-seum-ni-da)\n",
      "\n",
      "Note: \"\" can also be translated to \"flickering\" or \"blinking\", depending on the context. \n",
      "\n"
     ]
    }
   ],
   "source": [
    "for issue in user_messages:\n",
    "    prompt = f\"Tell me what language this is: ```{issue}```\"\n",
    "    lang = get_completion(prompt)\n",
    "    print(f\"Original message ({lang}): {issue}\")\n",
    "\n",
    "    prompt = f\"\"\"\n",
    "    Translate the following  text to English \\\n",
    "    and Korean: ```{issue}```\n",
    "    \"\"\"\n",
    "    response = get_completion(prompt)\n",
    "    print(response, \"\\n\")"
   ]
  },
  {
   "cell_type": "markdown",
   "id": "1d9e54ca-f93a-43c8-a295-bff7a89f77f5",
   "metadata": {
    "id": "JH3-0vdjsILh"
   },
   "source": [
    "## Tone Transformation\n",
    "Writing can vary based on the intended audience. ChatGPT can produce different tones.\n"
   ]
  },
  {
   "cell_type": "code",
   "execution_count": 9,
   "id": "2deac328",
   "metadata": {
    "height": 115,
    "tags": []
   },
   "outputs": [
    {
     "name": "stdout",
     "output_type": "stream",
     "text": [
      "Here's the translation:\n",
      "\n",
      "Dear [Recipient],\n",
      "\n",
      "I wanted to bring to your attention an exceptional opportunity regarding a standing lamp. I am excited to share the details with you.\n",
      "\n",
      "Sincerely,\n",
      "Joe\n"
     ]
    }
   ],
   "source": [
    "prompt = f\"\"\"\n",
    "Translate the following from slang to a business letter: \n",
    "'Dude, This is Joe, check out this spec on this standing lamp.'\n",
    "\"\"\"\n",
    "response = get_completion(prompt)\n",
    "print(response)"
   ]
  },
  {
   "cell_type": "markdown",
   "id": "a2c7eb73-6b82-442d-b4f8-251c308e89d5",
   "metadata": {
    "id": "p3e9sZh5tWIa"
   },
   "source": [
    "## Format Conversion\n",
    "ChatGPT can translate between formats. The prompt should describe the input and output formats."
   ]
  },
  {
   "cell_type": "code",
   "execution_count": 10,
   "id": "5a37f0a0",
   "metadata": {
    "height": 217,
    "tags": []
   },
   "outputs": [
    {
     "name": "stdout",
     "output_type": "stream",
     "text": [
      "Here is the Python code to translate the JSON dictionary into an HTML table with column headers and title:\n",
      "```\n",
      "import json\n",
      "from tabulate import tabulate\n",
      "\n",
      "# Load the JSON data\n",
      "data = json.loads('{\"resturant employees\": [{\"name\": \"Shyam\", \"email\": \"shyamjaiswal@gmail.com\"}, {\"name\": \"Bob\", \"email\": \"bob32@gmail.com\"}, {\"name\": \"Jai\", \"email\": \"jai87@gmail.com\"}]}')\n",
      "\n",
      "# Extract the data and headers\n",
      "headers = ['Name', 'Email']\n",
      "table_data = [[row['name'], row['email']] for row in data['resturant employees']]\n",
      "\n",
      "# Create the HTML table\n",
      "html_table = tabulate(table_data, headers=headers, tablefmt='html')\n",
      "\n",
      "# Print the HTML table with title\n",
      "print('<h1>Resturant Employees</h1>')\n",
      "print(html_table)\n",
      "```\n",
      "This code uses the `json` module to load the JSON data, and the `tabulate` library to create the HTML table. The `headers` variable defines the column headers, and the `table_data` list comprehension extracts the data from the JSON dictionary.\n",
      "\n",
      "The resulting HTML table will look like this:\n",
      "```\n",
      "<h1>Resturant Employees</h1>\n",
      "<table border=\"1\" cellpadding=\"3\" cellspacing=\"0\">\n",
      "  <tr><th>Name</th><th>Email</th></tr>\n",
      "  <tr><td>Shyam</td><td>shyamjaiswal@gmail.com</td></tr>\n",
      "  <tr><td>Bob</td><td>bob32@gmail.com</td></tr>\n",
      "  <tr><td>Jai</td><td>jai87@gmail.com</td></tr>\n",
      "</table>\n",
      "```\n",
      "You can customize the appearance of the table by modifying the `tablefmt` parameter in the `tabulate` function. For example, you can use `tablefmt='grid'` to create a grid-style table instead of a HTML table.\n"
     ]
    }
   ],
   "source": [
    "data_json = { \"resturant employees\" :[ \n",
    "    {\"name\":\"Shyam\", \"email\":\"shyamjaiswal@gmail.com\"},\n",
    "    {\"name\":\"Bob\", \"email\":\"bob32@gmail.com\"},\n",
    "    {\"name\":\"Jai\", \"email\":\"jai87@gmail.com\"}\n",
    "]}\n",
    "\n",
    "prompt = f\"\"\"\n",
    "Translate the following python dictionary from JSON to an HTML \\\n",
    "table with column headers and title: {data_json}\n",
    "\"\"\"\n",
    "response = get_completion(prompt)\n",
    "print(response)"
   ]
  },
  {
   "cell_type": "code",
   "execution_count": 11,
   "id": "481a46b7",
   "metadata": {
    "height": 47,
    "tags": []
   },
   "outputs": [
    {
     "data": {
      "text/html": [
       "Here is the Python code to translate the JSON dictionary into an HTML table with column headers and title:\n",
       "```\n",
       "import json\n",
       "from tabulate import tabulate\n",
       "\n",
       "# Load the JSON data\n",
       "data = json.loads('{\"resturant employees\": [{\"name\": \"Shyam\", \"email\": \"shyamjaiswal@gmail.com\"}, {\"name\": \"Bob\", \"email\": \"bob32@gmail.com\"}, {\"name\": \"Jai\", \"email\": \"jai87@gmail.com\"}]}')\n",
       "\n",
       "# Extract the data and headers\n",
       "headers = ['Name', 'Email']\n",
       "table_data = [[row['name'], row['email']] for row in data['resturant employees']]\n",
       "\n",
       "# Create the HTML table\n",
       "html_table = tabulate(table_data, headers=headers, tablefmt='html')\n",
       "\n",
       "# Print the HTML table with title\n",
       "print('<h1>Resturant Employees</h1>')\n",
       "print(html_table)\n",
       "```\n",
       "This code uses the `json` module to load the JSON data, and the `tabulate` library to create the HTML table. The `headers` variable defines the column headers, and the `table_data` list comprehension extracts the data from the JSON dictionary.\n",
       "\n",
       "The resulting HTML table will look like this:\n",
       "```\n",
       "<h1>Resturant Employees</h1>\n",
       "<table border=\"1\" cellpadding=\"3\" cellspacing=\"0\">\n",
       "  <tr><th>Name</th><th>Email</th></tr>\n",
       "  <tr><td>Shyam</td><td>shyamjaiswal@gmail.com</td></tr>\n",
       "  <tr><td>Bob</td><td>bob32@gmail.com</td></tr>\n",
       "  <tr><td>Jai</td><td>jai87@gmail.com</td></tr>\n",
       "</table>\n",
       "```\n",
       "You can customize the appearance of the table by modifying the `tablefmt` parameter in the `tabulate` function. For example, you can use `tablefmt='grid'` to create a grid-style table instead of a HTML table."
      ],
      "text/plain": [
       "<IPython.core.display.HTML object>"
      ]
     },
     "metadata": {},
     "output_type": "display_data"
    }
   ],
   "source": [
    "from IPython.display import display, Markdown, Latex, HTML, JSON\n",
    "display(HTML(response))"
   ]
  },
  {
   "cell_type": "markdown",
   "id": "2df1824c-534b-45cb-b0c1-3000bba5adbe",
   "metadata": {
    "id": "qLTz16qEzyT_"
   },
   "source": [
    "## Spellcheck/Grammar check.\n",
    "\n",
    "Here are some examples of common grammar and spelling problems and the LLM's response. \n",
    "\n",
    "To signal to the LLM that you want it to proofread your text, you instruct the model to 'proofread' or 'proofread and correct'."
   ]
  },
  {
   "cell_type": "code",
   "execution_count": 23,
   "id": "52d77283",
   "metadata": {
    "height": 302,
    "tags": []
   },
   "outputs": [
    {
     "name": "stdout",
     "output_type": "stream",
     "text": [
      "Here is the corrected version:\n",
      "\n",
      "```\n",
      "The girl with the black and white puppies has a ball.\n",
      "```\n",
      "Here is the corrected text:\n",
      "\n",
      "Yolanda has her notebook.\n",
      "```\n",
      "It's going to be a long day. Does the car need its oil changed?\n",
      "```\n",
      "```\n",
      "There goes my freedom. They're going to bring their suitcases.\n",
      "```\n",
      "```\n",
      "You're going to need your notebook.\n",
      "```\n",
      "Here is the corrected version:\n",
      "\n",
      "```\n",
      "That medicine affects my ability to sleep. Have you heard of the butterfly effect?\n",
      "```\n",
      "Here is the corrected version:\n",
      "\n",
      "```\n",
      "This phrase is to check ChatGPT's spelling ability.\n",
      "```\n"
     ]
    }
   ],
   "source": [
    "text = [ \n",
    "  \"The girl with the black and white puppies have a ball.\",  # The girl has a ball.\n",
    "  \"Yolanda has her notebook.\", # ok\n",
    "  \"Its going to be a long day. Does the car need it’s oil changed?\",  # Homonyms\n",
    "  \"Their goes my freedom. There going to bring they’re suitcases.\",  # Homonyms\n",
    "  \"Your going to need you’re notebook.\",  # Homonyms\n",
    "  \"That medicine effects my ability to sleep. Have you heard of the butterfly affect?\", # Homonyms\n",
    "  \"This phrase is to cherck chatGPT for speling abilitty\"  # spelling\n",
    "]\n",
    "for t in text:\n",
    "    prompt = f\"\"\"Proofread and correct the following text\n",
    "    and rewrite the corrected version. If you don't find\n",
    "    and errors, just say \"No errors found\". \n",
    "    Do not output anything else and don't explain the corrections. Don't use \n",
    "    any punctuation around the text:\n",
    "    ```{t}```\"\"\"\n",
    "    response = get_completion(prompt)\n",
    "    print(response)"
   ]
  },
  {
   "cell_type": "code",
   "execution_count": 26,
   "id": "7543fe7d",
   "metadata": {
    "height": 234,
    "tags": []
   },
   "outputs": [
    {
     "name": "stdout",
     "output_type": "stream",
     "text": [
      "Here is the corrected review:\n",
      "\n",
      "I purchased this panda plush toy for my daughter's birthday because she keeps taking mine from my room. Yes, adults also appreciate pandas! She takes it everywhere with her, and it's incredibly soft and adorable. One of the ears appears to be slightly lower than the other, which I don't think was intentionally designed as asymmetrical. While it's a cute toy, I do think it's a bit small for what I paid for it. I'm not convinced that there aren't larger options available at the same price point. The item arrived a day earlier than expected, so I got to enjoy it myself before giving it to my daughter.\n"
     ]
    }
   ],
   "source": [
    "text = f\"\"\"\n",
    "Got this for my daughter for her birthday cuz she keeps taking \\\n",
    "mine from my room.  Yes, adults also like pandas too.  She takes \\\n",
    "it everywhere with her, and it's super soft and cute.  One of the \\\n",
    "ears is a bit lower than the other, and I don't think that was \\\n",
    "designed to be asymmetrical. It's a bit small for what I paid for it \\\n",
    "though. I think there might be other options that are bigger for \\\n",
    "the same price.  It arrived a day earlier than expected, so I got \\\n",
    "to play with it myself before I gave it to my daughter.\n",
    "\"\"\"\n",
    "prompt = f\"proofread and correct this review: ```{text}```. Output only the corrected version. Do not output anything else.\"\n",
    "response = get_completion(prompt)\n",
    "print(response)"
   ]
  },
  {
   "cell_type": "code",
   "execution_count": 28,
   "id": "11ac80a0",
   "metadata": {
    "height": 81,
    "tags": []
   },
   "outputs": [
    {
     "data": {
      "text/markdown": [
       "<span style='color:red;font-weight:700;text-decoration:line-through;'>Got </span><span style='color:green;font-weight:700;'>Here is the corrected review: </span>\n",
       "\n",
       "<span style='color:green;font-weight:700;'>I purchased </span>this <span style='color:green;font-weight:700;'>panda plush toy </span>for my <span style='color:red;font-weight:700;text-decoration:line-through;'>daughter for her </span><span style='color:green;font-weight:700;'>daughter's </span>birthday <span style='color:red;font-weight:700;text-decoration:line-through;'>cuz </span><span style='color:green;font-weight:700;'>because </span>she keeps taking mine from my <span style='color:red;font-weight:700;text-decoration:line-through;'>room.  </span><span style='color:green;font-weight:700;'>room. </span>Yes, adults also <span style='color:red;font-weight:700;text-decoration:line-through;'>like pandas too.  </span><span style='color:green;font-weight:700;'>appreciate pandas! </span>She takes it everywhere with her, and it's <span style='color:red;font-weight:700;text-decoration:line-through;'>super </span><span style='color:green;font-weight:700;'>incredibly </span>soft and <span style='color:red;font-weight:700;text-decoration:line-through;'>cute.  </span><span style='color:green;font-weight:700;'>adorable. </span>One of the ears <span style='color:red;font-weight:700;text-decoration:line-through;'>is a bit </span><span style='color:green;font-weight:700;'>appears to be slightly </span>lower than the other, <span style='color:red;font-weight:700;text-decoration:line-through;'>and </span><span style='color:green;font-weight:700;'>which </span>I don't think <span style='color:red;font-weight:700;text-decoration:line-through;'>that </span>was <span style='color:green;font-weight:700;'>intentionally </span>designed <span style='color:red;font-weight:700;text-decoration:line-through;'>to be </span><span style='color:green;font-weight:700;'>as </span>asymmetrical. <span style='color:red;font-weight:700;text-decoration:line-through;'>It's </span><span style='color:green;font-weight:700;'>While it's a cute toy, I do think it's </span>a bit small for what I paid for <span style='color:red;font-weight:700;text-decoration:line-through;'>it though. I think </span><span style='color:green;font-weight:700;'>it. I'm not convinced that </span>there <span style='color:red;font-weight:700;text-decoration:line-through;'>might be other </span><span style='color:green;font-weight:700;'>aren't larger </span>options <span style='color:red;font-weight:700;text-decoration:line-through;'>that are bigger for </span><span style='color:green;font-weight:700;'>available at </span>the same <span style='color:red;font-weight:700;text-decoration:line-through;'>price.  It </span><span style='color:green;font-weight:700;'>price point. The item </span>arrived a day earlier than expected, so I got to <span style='color:red;font-weight:700;text-decoration:line-through;'>play with </span><span style='color:green;font-weight:700;'>enjoy </span>it myself before <span style='color:red;font-weight:700;text-decoration:line-through;'>I gave </span><span style='color:green;font-weight:700;'>giving </span>it to my daughter."
      ],
      "text/plain": [
       "<IPython.core.display.Markdown object>"
      ]
     },
     "metadata": {},
     "output_type": "display_data"
    }
   ],
   "source": [
    "from redlines import Redlines\n",
    "\n",
    "diff = Redlines(text,response)\n",
    "display(Markdown(diff.output_markdown))"
   ]
  },
  {
   "cell_type": "code",
   "execution_count": 29,
   "id": "2b4e73fd",
   "metadata": {
    "height": 149,
    "tags": []
   },
   "outputs": [
    {
     "data": {
      "text/markdown": [
       "Here is the proofread and rewritten review in markdown format:\n",
       "\n",
       "**A Soft and Cuddly Companion**\n",
       "================================\n",
       "\n",
       "I purchased this plush panda for my daughter's birthday, as she had been borrowing mine from my room. While adults may also appreciate these adorable creatures, I was pleased to see that it brought a smile to her face. The softness and cuteness of the toy are undeniable.\n",
       "\n",
       "Upon closer inspection, I noticed that one ear is slightly lower than the other, which may not have been intentionally designed as asymmetrical. Nevertheless, this minor flaw did not detract from my daughter's enthusiasm for the plush toy.\n",
       "\n",
       "While the size of the panda was satisfactory, I felt that it was a tad smaller than expected considering the price point. In hindsight, I might have explored alternative options that offer greater value for the same cost.\n",
       "\n",
       "A pleasant surprise was the timely arrival of the package, which arrived a day earlier than anticipated. This allowed me to enjoy the plush toy myself before presenting it to my daughter, making the experience even more special.\n",
       "\n",
       "**APA Style Guide Compliance:**\n",
       "\n",
       "* The review is written in the first person (I) and uses present tense verbs.\n",
       "* The text includes specific details about the product, such as its softness and cuteness.\n",
       "* The reviewer provides a balanced assessment of the product's pros and cons.\n",
       "* The review is concise and easy to read.\n",
       "\n",
       "**Target Audience:**\n",
       "\n",
       "* Advanced readers who are interested in reading reviews that provide detailed information about products.\n",
       "* Individuals who value honesty and transparency in their purchasing decisions."
      ],
      "text/plain": [
       "<IPython.core.display.Markdown object>"
      ]
     },
     "metadata": {},
     "output_type": "display_data"
    }
   ],
   "source": [
    "prompt = f\"\"\"\n",
    "proofread and correct this review. Make it more compelling. \n",
    "Ensure it follows APA style guide and targets an advanced reader. \n",
    "Output in markdown format.\n",
    "Text: ```{text}```\n",
    "\"\"\"\n",
    "response = get_completion(prompt)\n",
    "display(Markdown(response))"
   ]
  },
  {
   "cell_type": "markdown",
   "id": "63fb76bc-a742-4b35-9dc2-f7fbc12d38fb",
   "metadata": {},
   "source": [
    "## Try it yourself!\n",
    "Try changing the instructions to form your own review."
   ]
  },
  {
   "cell_type": "code",
   "execution_count": null,
   "id": "a2b2ca58",
   "metadata": {
    "height": 30
   },
   "outputs": [],
   "source": []
  },
  {
   "cell_type": "markdown",
   "id": "3dbf5020-7d7f-4ba5-840b-20e883cd7c99",
   "metadata": {
    "id": "unsf1JnRr2IC"
   },
   "source": [
    "Thanks to the following sites:\n",
    "\n",
    "https://writingprompts.com/bad-grammar-examples/\n"
   ]
  }
 ],
 "metadata": {
  "kernelspec": {
   "display_name": "Python 3 (ipykernel)",
   "language": "python",
   "name": "python3"
  },
  "language_info": {
   "codemirror_mode": {
    "name": "ipython",
    "version": 3
   },
   "file_extension": ".py",
   "mimetype": "text/x-python",
   "name": "python",
   "nbconvert_exporter": "python",
   "pygments_lexer": "ipython3",
   "version": "3.10.13"
  }
 },
 "nbformat": 4,
 "nbformat_minor": 5
}
