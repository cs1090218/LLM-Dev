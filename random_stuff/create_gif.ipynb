{
 "cells": [
  {
   "cell_type": "code",
   "execution_count": 1,
   "id": "51df6d6d",
   "metadata": {},
   "outputs": [],
   "source": [
    "from PIL import Image\n",
    "import glob\n",
    "\n",
    "# Load all images\n",
    "image_files = sorted(glob.glob(\"images/1/*.jpg\"))\n",
    "images = [Image.open(img) for img in image_files]\n",
    "\n",
    "# Save as GIF\n",
    "images[0].save(\"output.gif\", save_all=True, append_images=images[1:], duration=300, loop=0)\n"
   ]
  },
  {
   "cell_type": "code",
   "execution_count": 31,
   "id": "5824bca9",
   "metadata": {},
   "outputs": [
    {
     "name": "stdout",
     "output_type": "stream",
     "text": [
      "GIF saved as output.gif\n"
     ]
    }
   ],
   "source": [
    "from PIL import Image, ImageDraw, ImageFont\n",
    "import glob\n",
    "import os\n",
    "\n",
    "# Customize this list with your captions\n",
    "captions = [\"Oct\"] + [\"Nov\"] * 4 + [\"Dec\"] * 5 + [\"Jan\"] * 4 + [\"Feb\"] * 4 + [\"Mar\"] * 5 + [\"Apr\"] * 4 + [\"May\"] * 4 + [\"Jun\"] * 5 + [\"Jul\"]\n",
    "colors = [\"deepskyblue\"] + [\"orange\"]*4 + [\"limegreen\"]*5 + [\"violet\"]*4 + [\"gold\"]*4 + [\"hotpink\"]*5 + [\"turquoise\"]*4 + [\"tomato\"]*4 + [\"mediumslateblue\"]*5 + [\"springgreen\"]\n",
    "\n",
    "# Load custom fun font\n",
    "def load_font(size=24):\n",
    "    return ImageFont.truetype(\"Pacifico-Regular.ttf\", size)  # Ensure this .ttf file is in your working directory\n",
    "\n",
    "# Load and annotate images\n",
    "def load_images_with_captions(folder_path, captions, colors, image_ext=\"jpg\"):\n",
    "    image_paths = sorted(glob.glob(os.path.join(folder_path, f\"*.{image_ext}\")))\n",
    "\n",
    "    if len(image_paths) != len(captions):\n",
    "        raise ValueError(\"Number of captions must match number of images.\")\n",
    "\n",
    "    images = []\n",
    "\n",
    "    for path, caption, color in zip(image_paths, captions, colors):\n",
    "        img = Image.open(path).convert(\"RGBA\")\n",
    "        img = img.resize((1300, 2400), Image.Resampling.LANCZOS)\n",
    "        font_size = int(img.height * 0.08)  # 8% of image height\n",
    "        font = load_font(size=font_size)\n",
    "\n",
    "        overlay = Image.new(\"RGBA\", img.size, (255, 255, 255, 0))\n",
    "        draw = ImageDraw.Draw(overlay)\n",
    "\n",
    "        # Measure text size\n",
    "        bbox = draw.textbbox((0, 0), caption, font=font)\n",
    "        text_width = bbox[2] - bbox[0]\n",
    "        text_height = bbox[3] - bbox[1]\n",
    "\n",
    "        # Top-right with padding\n",
    "        padding = 20\n",
    "        x = img.width - text_width - padding\n",
    "        y = padding\n",
    "\n",
    "        # Optional: shadow for visibility\n",
    "        draw.text((x + 2, y + 2), caption, font=font, fill=\"black\")  # shadow\n",
    "        draw.text((x, y), caption, font=font, fill=color)          # main text\n",
    "\n",
    "        combined = Image.alpha_composite(img, overlay).convert(\"RGB\")\n",
    "        images.append(combined)\n",
    "\n",
    "    return images\n",
    "\n",
    "# Create and save GIF\n",
    "def create_gif_with_captions(folder_path, captions, colors, output_path=\"output.gif\", duration=300):\n",
    "    images = load_images_with_captions(folder_path, captions, colors)\n",
    "    if images:\n",
    "        images[0].save(output_path, save_all=True, append_images=images[1:], duration=duration, loop=1)\n",
    "        print(f\"GIF saved as {output_path}\")\n",
    "    else:\n",
    "        print(\"No images found.\")\n",
    "\n",
    "# Usage\n",
    "create_gif_with_captions(\"images/2\", captions, colors)\n"
   ]
  }
 ],
 "metadata": {
  "kernelspec": {
   "display_name": "llm1",
   "language": "python",
   "name": "python3"
  },
  "language_info": {
   "codemirror_mode": {
    "name": "ipython",
    "version": 3
   },
   "file_extension": ".py",
   "mimetype": "text/x-python",
   "name": "python",
   "nbconvert_exporter": "python",
   "pygments_lexer": "ipython3",
   "version": "3.11.7"
  }
 },
 "nbformat": 4,
 "nbformat_minor": 5
}
