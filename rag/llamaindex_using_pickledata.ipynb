{
 "cells": [
  {
   "cell_type": "markdown",
   "metadata": {},
   "source": [
    "### Based on:\n",
    "https://docs.llamaindex.ai/en/stable/presentations/materials/2024-02-28-rag-bootcamp-vector-institute/?h=rag\n",
    "\n",
    "- Use this notebook if you want to use OpenAI's LLM and embeddings\n",
    "- Here we use the pickled embeddings, so we save the cost there and only incur the LLM query cost"
   ]
  },
  {
   "cell_type": "code",
   "execution_count": 1,
   "metadata": {},
   "outputs": [],
   "source": [
    "import os\n",
    "import pickle\n",
    "import nest_asyncio\n",
    "\n",
    "nest_asyncio.apply()"
   ]
  },
  {
   "cell_type": "code",
   "execution_count": 2,
   "metadata": {},
   "outputs": [],
   "source": [
    "USE_OPENAI = True"
   ]
  },
  {
   "cell_type": "code",
   "execution_count": 3,
   "metadata": {},
   "outputs": [],
   "source": [
    "from llama_index.core import Settings\n",
    "from llama_index.llms.openai import OpenAI\n",
    "from llama_index.embeddings.openai import OpenAIEmbedding\n",
    "from llama_index.llms.ollama import Ollama\n",
    "from llama_index.embeddings.ollama import OllamaEmbedding\n",
    "\n",
    "if USE_OPENAI:\n",
    "    Settings.llm = OpenAI(model=\"gpt-3.5-turbo\", api_key=os.getenv('OPENAI_API_KEY'))\n",
    "    Settings.embed_model = OpenAIEmbedding(model=\"text-embedding-ada-002\")\n",
    "else:\n",
    "    Settings.llm = Ollama(model=\"llama3:instruct\")\n",
    "    Settings.embed_model = OllamaEmbedding(\n",
    "        model_name=\"llama3:instruct\",\n",
    "        base_url=\"http://localhost:11434\",\n",
    "        ollama_additional_kwargs={\"mirostat\": 0},\n",
    "    )"
   ]
  },
  {
   "cell_type": "code",
   "execution_count": 4,
   "metadata": {},
   "outputs": [],
   "source": [
    "from llama_index.core.ingestion import IngestionPipeline\n",
    "from llama_index.core.node_parser import SentenceSplitter\n",
    "from llama_index.vector_stores.qdrant import QdrantVectorStore\n",
    "import qdrant_client\n",
    "\n",
    "with open('models/openAI_idpp_metagpt_state/_nodes.pickle', 'rb') as handle:\n",
    "    _nodes = pickle.load(handle)"
   ]
  },
  {
   "cell_type": "code",
   "execution_count": 5,
   "metadata": {},
   "outputs": [
    {
     "name": "stderr",
     "output_type": "stream",
     "text": [
      "WARNING:root:Payload indexes have no effect in the local Qdrant. Please use server Qdrant if you need payload indexes.\n"
     ]
    }
   ],
   "source": [
    "client = qdrant_client.QdrantClient(location=\":memory:\")\n",
    "vector_store = QdrantVectorStore(client=client, collection_name=\"test_store\")\n",
    "_ = vector_store.add(_nodes)"
   ]
  },
  {
   "cell_type": "code",
   "execution_count": 6,
   "metadata": {},
   "outputs": [],
   "source": [
    "from llama_index.core import VectorStoreIndex\n",
    "\n",
    "index = VectorStoreIndex.from_vector_store(vector_store=vector_store)"
   ]
  },
  {
   "cell_type": "code",
   "execution_count": 7,
   "metadata": {},
   "outputs": [],
   "source": [
    "retriever = index.as_retriever(similarity_top_k=2)\n",
    "retrieved_nodes = retriever.retrieve(\"What did the president say about Justice Breyer?\")"
   ]
  },
  {
   "cell_type": "code",
   "execution_count": 8,
   "metadata": {},
   "outputs": [
    {
     "name": "stdout",
     "output_type": "stream",
     "text": [
      "The most fundamental right in America is the right to vote and have it counted. And look, it’s under assault.\n",
      "\n",
      "In state after state, new laws have been passed not only to suppress the vote — we’ve been there before — but to subvert the entire election. We can’t let this happen.\n",
      "\n",
      "Tonight, I call on the Senate to pass — pass the Freedom to Vote Act. Pass the John Lewis Act — Voting Rights Act. And while you’re at it, pass the DISCLOSE Act so Americans know who is funding our elections.\n",
      "\n",
      "Look, tonight, I’d — I’d like to honor someone who has dedicated his life to serve this country: Justice Breyer — an Army veteran, Constitutional scholar, retiring Justice of the United States Supreme Court.\n",
      "\n",
      "Justice Breyer, thank you for your service. Thank you, thank you, thank you. I mean it. Get up. Stand — let me see you. Thank you.\n",
      "\n",
      "And we all know — no matter what your ideology, we all know one of the most serious constitutional responsibilities a President has is nominating someone to serve on the United States Supreme Court.\n",
      "\n",
      "As I did four days ago, I’ve nominated a Circuit Court of Appeals — Ketanji Brown Jackson. One of our nation’s top legal minds who will continue in just Brey- — Justice Breyer’s legacy of excellence. A former top litigator in private practice, a former federal public defender from a family of public-school educators and police officers — she’s a consensus builder.\n",
      "\n",
      "Since she’s been nominated, she’s received a broad range of support, including the Fraternal Order of Police and former judges appointed by Democrats and Republicans.\n",
      "\n",
      "Since she’s been nominated, she’s received a broad range of support, including the Fraternal Order of Police and former judges appointed by Democrats and Republicans.\n",
      "\n",
      "Folks, if we are to advance liberty and justice, we need to secure our border and fix the immigration system.\n",
      "\n",
      "And as you might guess, I think we can do both. At our border, we’ve installed new technology, like cutting-edge scanners, to better detect drug smuggling.\n",
      "\n",
      "We’ve set up joint patrols with Mexico and Guatemala to catch more human traffickers.\n",
      "\n",
      "We’re putting in place dedicated immigration judges in significant larger number so families fleeing persecution and violence can have their cases — cases heard faster — and those who aren’t legitimately here can be sent back.\n",
      "\n",
      "We’re screening — we’re securing commitments and supporting partners in South and Central America to host more refugees and secure their own borders.\n",
      "\n",
      "We can do all this while keeping lit the torch of liberty that has led the generation of immigrants to this land — my forebearers and many of yours.\n",
      "\n",
      "Provide a pathway to citizenship for Dreamers — those with temporary status, farmworkers, essential workers. To revise our laws so businesses have workers they need and families don’t wait decades to reunite.\n",
      "\n",
      "It’s not only the right thing to do, it’s economically smart thing to do. That’s why the immigration reform is supported by everyone from labor unions to religious leaders to the U.S. Chamber of Commerce. Let’s get it done once and for all.\n",
      "\n",
      "Folks, advancing liberty and justice also requires protecting the rights of women. The constitutional right affirmed by Roe v. Wade, standing precedent for half a century, is under attack as never before.\n",
      "\n",
      "If you want to go forward not backwards, we must protect access to healthcare; preserve a woman’s right to choose — and continue to advance maternal healthcare for all Americans.\n",
      "\n",
      "And folks, for our LGBTQ+ Americans, let’s finally get the bipartisan Equality Act to my desk. The onslaught of state laws targeting transgender Americans and their families — it’s simply wrong.\n",
      "\n",
      "As I said last year, especially to our younger transgender Americans, I’ll always have your back as your President so you can be yourself and reach your God-given potential.\n",
      "\n",
      "Folks as I’ve just demonstrated, while it often appears we do not agree and that — we — we do agree on a lot more things than we acknowledge.\n",
      "\n",
      "I signed 80 bipartisan bills into law last year, from preventing government shutdowns, to protecting Asian Americans from still-too-common hate crimes, to reforming military justice. And we’ll soon be strengthening the Violence Against Women Act that I first wrote three decades ago.\n",
      "\n",
      "And it’s important — it’s important for us to show — to show the nation that we can come together and do big things.\n",
      "\n",
      "So tonight, I’m offering a “Unity Agenda for the Nation”: four big things we can do together, in my view.\n",
      "\n",
      "First, beat the opioid epidemic. There’s so much we can do: increase funding for prevention, treatment, harm reduction, and recovery; get rid of outdated rules and stop doctors and — that stop doctors from prescribing treatments; stop the flow of illicit drugs by working with state and local law enforcement to go after the traffickers.\n",
      "================\n",
      "We achieved this because we provided free vaccines, treatments, tests, and masks. Of course, continuing this costs money, so it will not surprise you I’ll be back to see you all. And re- — I’m going to soon send a request to Congress.\n",
      "\n",
      "The vast majority of Americans have used these tools and may want to again — we may need them again. So I expect Congress — and I hope you’ll pass that quickly.\n",
      "\n",
      "Fourth, we’ll continue vaccinating the world. We’ve sent 475 million vaccine doses to 112 countries — more than any nation on Earth. We won’t stop, because you can’t build a wall high enough to keep out a —\n",
      "\n",
      "A vaccine — the vaccine can stop the spread of these diseases.\n",
      "\n",
      "You know, we’ve lost so much in COVID-19. Time with one another. The worst of all, the much loss of life.\n",
      "\n",
      "Let’s use this moment to reset. So, stop looking at COVID as a partisan dividing line. See it for what it is: a God-awful disease.\n",
      "\n",
      "Let’s stop sending — seeing each other as enemies and start seeing each other for who we are: fellow Americans.\n",
      "\n",
      "Look we can’t change how divided we’ve been. That was a long time in coming. But we can change how to move forward on COVID-19 and other issues that we must face together.\n",
      "\n",
      "I recently visited New York City Police Department days after the funerals of Officer Wilbert Mora and his partner, Officer Jason Rivera.\n",
      "\n",
      "They were responding to a 911 call when a man shot and killed them with a stolen gun.\n",
      "\n",
      "Officer Mora was 27 years old. Officer Rivera was 22 years old. Both Dominican Americans who grew up in the same streets that they later chose to patrol as police officers.\n",
      "\n",
      "I spoke with their families, and I told them that we are forever in debt for their sacrifices and we’ll carry on their mission to restore the trust and safety in every community it deserves.\n",
      "\n",
      "Like some of you that have been around for a while — I’ve worked with you on these issues for a long time. I know what works: Investing in crime prevention and community policing — cops who walk the beat, who know the neighborhood, and who can restore trust and safety.\n",
      "\n",
      "Let’s not abandon our streets or choose between safety and equal justice. Let’s come together and protect our communities, restore trust, and hold law enforcement accountable.\n",
      "\n",
      "That’s why the Justice Department has required body cameras, banned chokeholds, and restricted no-knock warrants for its officers.\n",
      "\n",
      "That’s why the American Rescue Plan that you all provided $350 billion that cities, states, and counties can use to hire more police, invest in more proven strategies like community violence interruption, trusted messengers breaking the cycle of violence and trauma and giving young people some hope.\n",
      "\n",
      "We should all agree the answer is not to defund the police.\n",
      "\n",
      "It’s to fund the police. Fund them. Fund them. Fund them with the resources and training — resources and training they need to protect our communities.\n",
      "\n",
      "I ask Democrats and Republicans alike to pass my budget and keep our neighborhoods safe.\n",
      "\n",
      "And we’ll do everything in my power to crack down on gun trafficking of ghost guns that you can buy online, assemble at home — no serial numbers, can’t be traced.\n",
      "\n",
      "I ask Congress to pass proven measures to reduce gun violence. Pass universal background checks. Why should anyone on the terrorist list be able to purchase a weapon. Why? Why?\n",
      "\n",
      "And, folks, ban assault weapons with high-capacity magazines that hold up to 100 rounds. You think the deer are wearing Kevlar vests?\n",
      "\n",
      "Look, repeal the liability shield that makes gun manufacturers the only industry in America that can’t be sued — the only one. Imagine had we done that with the tobacco manufactures.\n",
      "\n",
      "These laws don’t infringe on the Second Amendment; they save lives.\n",
      "\n",
      "The most fundamental right in America is the right to vote and have it counted. And look, it’s under assault.\n",
      "\n",
      "In state after state, new laws have been passed not only to suppress the vote — we’ve been there before — but to subvert the entire election. We can’t let this happen.\n",
      "\n",
      "Tonight, I call on the Senate to pass — pass the Freedom to Vote Act. Pass the John Lewis Act — Voting Rights Act. And while you’re at it, pass the DISCLOSE Act so Americans know who is funding our elections.\n",
      "\n",
      "Look, tonight, I’d — I’d like to honor someone who has dedicated his life to serve this country: Justice Breyer — an Army veteran, Constitutional scholar, retiring Justice of the United States Supreme Court.\n",
      "\n",
      "Justice Breyer, thank you for your service. Thank you, thank you, thank you. I mean it. Get up. Stand — let me see you. Thank you.\n"
     ]
    }
   ],
   "source": [
    "# to view the retrieved node\n",
    "print (retrieved_nodes[0].text)\n",
    "print (\"================\")\n",
    "print (retrieved_nodes[1].text)"
   ]
  },
  {
   "cell_type": "code",
   "execution_count": 9,
   "metadata": {},
   "outputs": [],
   "source": [
    "query_engine = index.as_query_engine(similarity_top_k=2)"
   ]
  },
  {
   "cell_type": "code",
   "execution_count": 10,
   "metadata": {},
   "outputs": [
    {
     "name": "stdout",
     "output_type": "stream",
     "text": [
      "The models tried for predicting ALS progression in the iDPP paper included a naive model that carried the last observed value forward, various Machine Learning algorithms for regression, and a Long Short-Term Memory (LSTM) neural network to model the temporal dependencies in the sequential sensor data.\n"
     ]
    }
   ],
   "source": [
    "response = query_engine.query(\"What were the models tried for predicting ALS progression in the idpp paper?.\")\n",
    "print (response)"
   ]
  },
  {
   "cell_type": "code",
   "execution_count": 11,
   "metadata": {},
   "outputs": [
    {
     "name": "stdout",
     "output_type": "stream",
     "text": [
      "The authors in the idpp paper utilized a nested k-fold cross-validation strategy for their validation process. This strategy involved two loops - an inner loop and an outer loop. In the inner loop, a test set containing 10% of complete patient data was set aside, while the remaining data underwent further k-fold cross-validation. This was adapted to ensure that each patient's complete set of observations was included in both the training and validation sets, preventing information leakage between different times of the patient's data. The outer loop repeated the same procedure on another test set covering another 10% of the patients, with a total of 10 iterations to compute RMSE for model selection. The best hyperparameters were chosen based on these iterations before fitting all the data for the final submission.\n"
     ]
    }
   ],
   "source": [
    "response = query_engine.query(\"What was the validation strategy used by the authors in the idpp paper?.\")\n",
    "print (response)"
   ]
  },
  {
   "cell_type": "code",
   "execution_count": 12,
   "metadata": {},
   "outputs": [
    {
     "name": "stdout",
     "output_type": "stream",
     "text": [
      "Agents in MetaGPT share information with other agents by utilizing a shared message pool. This shared message pool allows agents to publish structured messages and access messages from other agents directly. By storing information in this global message pool, agents can exchange information transparently without the need to inquire about other agents individually. Additionally, agents can retrieve required information from the shared pool, enhancing communication efficiency.\n"
     ]
    }
   ],
   "source": [
    "response = query_engine.query(\"How do agents share information with other agents in MetaGPT?\")\n",
    "print (response)"
   ]
  }
 ],
 "metadata": {
  "kernelspec": {
   "display_name": "idpp-clef-2024-2",
   "language": "python",
   "name": "python3"
  },
  "language_info": {
   "codemirror_mode": {
    "name": "ipython",
    "version": 3
   },
   "file_extension": ".py",
   "mimetype": "text/x-python",
   "name": "python",
   "nbconvert_exporter": "python",
   "pygments_lexer": "ipython3",
   "version": "3.11.7"
  }
 },
 "nbformat": 4,
 "nbformat_minor": 2
}
