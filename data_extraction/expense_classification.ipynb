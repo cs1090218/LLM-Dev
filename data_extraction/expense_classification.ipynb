{
 "cells": [
  {
   "cell_type": "code",
   "execution_count": 1,
   "metadata": {},
   "outputs": [],
   "source": [
    "%load_ext autoreload\n",
    "%autoreload 2\n",
    "\n",
    "import numpy as np\n",
    "\n",
    "from utils import read_sheet"
   ]
  },
  {
   "cell_type": "code",
   "execution_count": 2,
   "metadata": {},
   "outputs": [],
   "source": [
    "label_to_id = {'Regular': 0, 'Trip': 1, 'Hobby': 2}\n",
    "def get_X_and_y_from_sheet(spreadsheet_id, sheet_name, X, y, skip_hobby=False):\n",
    "    values = read_sheet(spreadsheet_id, sheet_name)\n",
    "    data = np.array(values[1:-1])   # Remove header and footer rows\n",
    "    data = data[:,:3]               # Remove last three columns that aren't needed\n",
    "    \n",
    "    for date_desc, cost, label in data:\n",
    "        if skip_hobby and label == 'Hobby':\n",
    "            continue\n",
    "        date, desc = date_desc.split(' ', maxsplit=1)\n",
    "        X.append([date, desc, cost])\n",
    "        y.append(label_to_id[label])"
   ]
  },
  {
   "cell_type": "code",
   "execution_count": 3,
   "metadata": {},
   "outputs": [
    {
     "name": "stdout",
     "output_type": "stream",
     "text": [
      "Number of 'Regular' data: 458\n",
      "Number of 'Trip' data: 278\n",
      "Number of 'Hobby' data: 12\n"
     ]
    }
   ],
   "source": [
    "SPREADSHEET_ID = \"1Ik2lyOO5MN9a8-hEUf4sRqUlP3WcN36ItekQSGV4NxY\"\n",
    "\n",
    "X_full, y = [], []\n",
    "get_X_and_y_from_sheet(SPREADSHEET_ID, \"Jul 2023\", X_full, y)\n",
    "get_X_and_y_from_sheet(SPREADSHEET_ID, \"Aug 2023\", X_full, y)\n",
    "get_X_and_y_from_sheet(SPREADSHEET_ID, \"Sep 2023\", X_full, y)\n",
    "get_X_and_y_from_sheet(SPREADSHEET_ID, \"Oct 2023\", X_full, y)\n",
    "get_X_and_y_from_sheet(SPREADSHEET_ID, \"Nov 2023\", X_full, y)\n",
    "get_X_and_y_from_sheet(SPREADSHEET_ID, \"Dec 2023\", X_full, y)\n",
    "get_X_and_y_from_sheet(SPREADSHEET_ID, \"Jan 2024\", X_full, y)\n",
    "get_X_and_y_from_sheet(SPREADSHEET_ID, \"Feb 2024\", X_full, y)\n",
    "get_X_and_y_from_sheet(SPREADSHEET_ID, \"Mar 2024\", X_full, y)\n",
    "get_X_and_y_from_sheet(SPREADSHEET_ID, \"Apr 2024\", X_full, y)\n",
    "get_X_and_y_from_sheet(SPREADSHEET_ID, \"May 2024\", X_full, y)\n",
    "\n",
    "X_full = np.array(X_full)\n",
    "y = np.array(y)\n",
    "\n",
    "print (f\"Number of 'Regular' data: {np.sum(y == 0)}\")\n",
    "print (f\"Number of 'Trip' data: {np.sum(y == 1)}\")\n",
    "print (f\"Number of 'Hobby' data: {np.sum(y == 2)}\")"
   ]
  },
  {
   "cell_type": "code",
   "execution_count": 4,
   "metadata": {},
   "outputs": [
    {
     "name": "stdout",
     "output_type": "stream",
     "text": [
      "(748, 3)\n",
      "(748,)\n"
     ]
    }
   ],
   "source": [
    "print (X_full.shape)\n",
    "print (y.shape)"
   ]
  },
  {
   "cell_type": "code",
   "execution_count": 5,
   "metadata": {},
   "outputs": [
    {
     "data": {
      "image/png": "[encoded data removed]",
      "text/plain": [
       "<Figure size 1000x700 with 1 Axes>"
      ]
     },
     "metadata": {},
     "output_type": "display_data"
    }
   ],
   "source": [
    "from matplotlib import pyplot as plt\n",
    "fig = plt.figure(figsize =(10, 7))\n",
    "plt.hist(y, bins = [0, 1, 2])\n",
    "plt.title(\"Expense type distribution\")\n",
    "plt.show()"
   ]
  },
  {
   "cell_type": "code",
   "execution_count": 6,
   "metadata": {},
   "outputs": [],
   "source": [
    "X = np.squeeze(X_full[:,1:2])"
   ]
  },
  {
   "cell_type": "code",
   "execution_count": 7,
   "metadata": {},
   "outputs": [],
   "source": [
    "import pickle\n",
    "pickle.dump(X, open('pickle/X.pkl', 'ab'))\n",
    "pickle.dump(y, open('pickle/y.pkl', 'ab'))"
   ]
  },
  {
   "cell_type": "code",
   "execution_count": 8,
   "metadata": {},
   "outputs": [],
   "source": [
    "X = pickle.load(open('pickle/X.pkl', 'rb'))\n",
    "y = pickle.load(open('pickle/y.pkl', 'rb'))"
   ]
  },
  {
   "cell_type": "code",
   "execution_count": 9,
   "metadata": {},
   "outputs": [],
   "source": [
    "from sklearn.model_selection import train_test_split\n",
    "\n",
    "X_train, X_val, y_train, y_val = train_test_split(X, y, test_size=0.3, random_state = 42)"
   ]
  },
  {
   "cell_type": "code",
   "execution_count": 12,
   "metadata": {},
   "outputs": [
    {
     "data": {
      "text/plain": [
       "array(['NETFLIX.COM NETFLIX.COM CA',\n",
       "       'DD DOORDASH DELHIWALA 855-973-1040 CA',\n",
       "       '72634006746815 EXPEDIA.COM WA',\n",
       "       'BOARDWALK BW GRILLE SANTA CRUZ CA', 'CSC SERVICEWORK SAN JOSE CA',\n",
       "       '    COMCAST CALIFORNIA 800-266-2278 CA',\n",
       "       'GOOGLE *YouTubePremium g.co/helppay# CA',\n",
       "       'TN GA INST TECH PAYPATH 913-5996699 KS',\n",
       "       '    CHEVRON 0203324 SAN JOSE CA',\n",
       "       'SBB CFF FFS Mobile Ticket Bern', 'Inc. New York NY',\n",
       "       'EMIRATES AI 1762366307348 NEW YORK NY',\n",
       "       'SAFEWAY #1990 SANTA CLARA CA', 'Gelati Tellhof Zurich',\n",
       "       'Scandic Byparken FnB Bergen', 'SAFEWAY #1990 SANTA CLARA CA',\n",
       "       'SAFEWAY #1990 SANTA CLARA CA',\n",
       "       '& CINEMARK MOVIE CLUB 800-246-3627 TX',\n",
       "       '    SAFEWAY #1990 SANTA CLARA CA',\n",
       "       ' SAFEWAY #1990 SANTA CLARA CA',\n",
       "       'EMIRATES AI 1762368844255 NEW YORK NY', 'CINNABON DELHI',\n",
       "       '    Vrbo HATYND6P 512-759-0902 TX',\n",
       "       'BEST LOCKERS (NYBIGAPP LAS VEGAS NV',\n",
       "       'SAFEWAY #1990 SANTA CLARA CA', 'GGB Zermatt Station Zermatt',\n",
       "       'SAFEWAY #1990 SANTA CLARA CA', 'SAFEWAY #1990 SANTA CLARA CA',\n",
       "       'Scandic Byparken FO Bergen',\n",
       "       '& COMCAST CALIFORNIA 800-COMCAST CA',\n",
       "       'RAZ*AIX CONNECT PRIVATE Bangalore', 'NETFLIX.COM NETFLIX.COM CA',\n",
       "       'RAZ*AIX CONNECT PRIVATE Bangalore',\n",
       "       'SAFEWAY #1990 SANTA CLARA CA', '    CHEVRON 0203324 SAN JOSE CA',\n",
       "       'USTA NORTHERN CALIFORNIA 510-7487373 CA', 'HERTZ NORGE LYSAKER',\n",
       "       'RAZ*IndiGo Gurgaon', 'ALASKA AIR 0272342012440 SEATTLE WA',\n",
       "       '    POSTAL ANNEX #449 SANTA CLARA CA',\n",
       "       '303 2ND ST PARKING GARAGE SAN FRANCISCO CA',\n",
       "       'Pilatus-Bahnen AG Kriens',\n",
       "       'EXPEDIA 72602115658020 EXPEDIA.COM WA',\n",
       "       '*CHULA PUEBLA San Jose CA',\n",
       "       '    DATASCIENCEGT.ORG DATASCIENCEGT GA',\n",
       "       'INDIAN WELLS TENNIS GARDE INDIAN WELLS CA',\n",
       "       'PY *FIVE SPICE INDIAN GRO SAN JOSE CA',\n",
       "       'SAFEWAY #1990 SANTA CLARA CA', '    CHEVRON 0203324 SAN JOSE CA',\n",
       "       '    CVS/PHARMACY #00422 SAN JOSE CA',\n",
       "       'COSTANOA LODGE PESCADERO CA', 'CHIPOTLE ONLINE CHIPOTLE.COM CA',\n",
       "       '    LIFETIME ACTIVITIES - SV SUNNYVALE CA',\n",
       "       'HAAGEN DAZS NYNY 702-7303790 NV', 'Moser_s Icecream Luzern',\n",
       "       '#1990 SANTA CLARA CA', '    SAFEWAY #1990 SANTA CLARA CA',\n",
       "       'GONG CHA - SANTA CLARA SANTA CLARA CA',\n",
       "       'UBER TRIP HELP.UBER.COM CA',\n",
       "       'SAS AIRLINE 1178307098362 RUTHERFORD NJ',\n",
       "       'CHIPOTLE 2149 SANTA CLARA CA', 'EasyPark AS easypark.no',\n",
       "       'SBB CFF FFS Mobile Ticket Bern', 'India Village Interlaken',\n",
       "       'SAFEWAY #1990 SANTA CLARA CA', 'SAFEWAY #1990 SANTA CLARA CA',\n",
       "       'TST* PARIS BAGUETTE - MIL MILPITAS CA',\n",
       "       'DD *GOLKONDAINDI 855-431-0459 CA', 'Harder Kulm GmbH Grindelwald',\n",
       "       '    CHIPOTLE ONLINE CHIPOTLE.COM CA',\n",
       "       '    CHIPOTLE ONLINE CHIPOTLE.COM CA',\n",
       "       'NCOURT *CASANTACLARASWP SAN JOSE CA',\n",
       "       'THE HOME DEPOT 1041 MILPITAS CA', 'RAZ*IndiGo Gurgaon',\n",
       "       '    FISHS WILD SAN JOSE CA',\n",
       "       '    KHOOBSURAT THREADING SALO SANTA CLARA CA',\n",
       "       ' SQ *CHULA PUEBLA San Jose CA', 'SAFEWAY #1990 SANTA CLARA CA',\n",
       "       'UBER *TRIP HELP.UBER.COM Amsterdam',\n",
       "       '    DD DOORDASH DELHIWALA 855-973-1040 CA',\n",
       "       'SAFEWAY #1990 SANTA CLARA CA', 'SAFEWAY #1990 SANTA CLARA CA',\n",
       "       'RAZ*IndiGo Gurgaon', 'LEMONADE-METROMILE INS WWW.LEMONADE. NY',\n",
       "       'SAS AIRLINE 1178307098358 RUTHERFORD NJ',\n",
       "       'KITOPI CATERING SERVICES Dubai',\n",
       "       'Funky Chocolate Club Interlaken', 'PINTS OF JOY SUNNYVALE CA',\n",
       "       'COMCAST CALIFORNIA 800-COMCAST CA',\n",
       "       'SQ *CHULA PUEBLA San Jose CA', 'CHEVRON 0302504 SUNNYVALE CA',\n",
       "       'COSTANOA LODGE 650-8791100 CA', 'SAFEWAY #1990 SANTA CLARA CA',\n",
       "       'SBB CFF FFS Mobile Ticket Bern', 'CORNER USA SANTA CLARA CA',\n",
       "       'DD DOORDASH INCHINSBA 855-973-1040 CA',\n",
       "       'SWISS AIR 7244556422912 BASEL', 'SAFEWAY #1990 SANTA CLARA CA',\n",
       "       'THEATRES 440 MILPITAS CA', 'UBER TRIP HELP.UBER.COM CA',\n",
       "       'SQ *MISTERSOFTEENORCAL Fremont CA',\n",
       "       '    SANTA CLARA UTILITIES 408-615-2300 CA',\n",
       "       'SPOTHERO 844-356-8054 HTTPSSPOTHERO IL',\n",
       "       'CINEMARK MOVIE CLUB 800-246-3627 TX',\n",
       "       'supersaver_no_MGOUX0 ONLINE', 'TARGET 00025817 SAN JOSE CA',\n",
       "       'KHOOBSURAT THREADING SALO SANTA CLARA CA',\n",
       "       'CINEMARK MOVIE CLUB 800-246-3627 TX',\n",
       "       'SALSALITO TACO SAN RAFAEL CA',\n",
       "       'lastminutecom Fly Molde H no.lastminute',\n",
       "       'UBER *TRIP HELP.UBER.COM help.uber.com',\n",
       "       'SAFEWAY #1990 SANTA CLARA CA', 'MILANO LOM AS LOM',\n",
       "       'PY *FIVE SPICE INDIAN GRO SAN JOSE CA',\n",
       "       '    PAYPAL PARK SAN JOSE CA', 'SBB CFF FFS Mobile Ticket Bern',\n",
       "       'Eidg. Departement Bern', 'CHEVRON 0203324 SAN JOSE CA',\n",
       "       'ARCO #42858 AMPM INDIO CA',\n",
       "       'ARCO#83557MOUNTAIN VIEW MOUNTAIN VIEW CA',\n",
       "       'DD DOORDASH PAVBHAJIH 855-973-1040 CA',\n",
       "       'VFS SERVICES (USA), IN SAN FRANCISCO CA',\n",
       "       'CENTURY THEATRES 399 MOUNTAIN VIEW CA',\n",
       "       \"MCDONALD'S F12566 COALINGA CA\",\n",
       "       'UBER *TRIP HELP.UBER.COM help.uber.com',\n",
       "       'HOTELL UTSIKTEN GEIRANGER',\n",
       "       'ARCO#83557MOUNTAIN VIEW MOUNTAIN VIEW CA',\n",
       "       'SAFEWAY #1990 SANTA CLARA CA', 'DD *PARKTOWNPIZZ 855-431-0459 CA',\n",
       "       'GOOGLE *YouTubePremium g.co/helppay# CA',\n",
       "       'MEET FRESH SANTA CLARA CA',\n",
       "       'SAS AIRLINE 1178009981887 RUTHERFORD NJ',\n",
       "       'NAMASTEY BERGEN BERGEN', 'SAFEWAY #1990 SANTA CLARA CA',\n",
       "       '    GOOGLE *YouTubePremium g.co/helppay# CA',\n",
       "       'DD DOORDASH TASTYPIZZ 855-973-1040 CA', 'LETT OSL GARDERMOEN',\n",
       "       'DD *BIRYANIZ 855-431-0459 CA',\n",
       "       'VFS Services USA Inc 347-3292738 NY',\n",
       "       'FASTRAK CSC 415-486-8655 CA', '    SAFEWAY #1990 SANTA CLARA CA',\n",
       "       'MEET FRESH SANTA CLARA CA',\n",
       "       '    LIFETIME ACTIVITIES - SV SUNNYVALE CA', 'RAZ*IndiGo Gurgaon',\n",
       "       'DD *GOLKONDAINDI 855-431-0459 CA',\n",
       "       'GOOGLE *Google Store 855-836-3987 CA', '#1990 SANTA CLARA CA',\n",
       "       'POSTAL ANNEX #449 SANTA CLARA CA', 'UBER *TRIP HELP.UBER.COM',\n",
       "       'GOOGLE *YouTubePremium g.co/helppay# CA',\n",
       "       'SAFEWAY #1990 SANTA CLARA CA',\n",
       "       '*FIVE SPICE INDIAN GRO SAN JOSE CA', 'UTR POWER HTTPSUNIVERSA CA',\n",
       "       'DD *CALIFORNIAFI 855-431-0459 CA',\n",
       "       'Travel Retail Relay BANGALORE',\n",
       "       'Zettle_*Aimee Cathrin Lar Stamsund',\n",
       "       'IKEA EAST PALO ALTO PALO ALTO CA',\n",
       "       'DD *ULAVACHARU 855-431-0459 CA', '72634033366655 EXPEDIA.COM WA',\n",
       "       'USTA NORTHERN CALIFORNIA 510-7487373 CA',\n",
       "       'Metromile Insurance 888-2441702 CA',\n",
       "       'SAFEWAY #1990 SANTA CLARA CA',\n",
       "       '    DD *ULAVACHARU 855-431-0459 CA',\n",
       "       'COMCAST CALIFORNIA 800-COMCAST CA',\n",
       "       '72634032132260 EXPEDIA.COM WA',\n",
       "       '    SAFEWAY #1990 SANTA CLARA CA',\n",
       "       'ROTTEN ROBBIE #33 SANTA CLARA CA',\n",
       "       'GOOGLE *YouTubePremium g.co/helppay# CA',\n",
       "       'WHITE HOUSE GARAGE SAN FRANCISCO CA', 'ESSO ANDALSNES ANDALSNES',\n",
       "       'ZETTLE_*EXPLORE GEIRAN VOLDA', \"MCDONALD'S F6643 FREMONT CA\",\n",
       "       'NATHANS FAMOUS NYNY 81 702-2332228 NV',\n",
       "       'SUMUP *HANG GLIDING INTE UNTERSEEN',\n",
       "       '72633998445085 EXPEDIA.COM WA',\n",
       "       'EUREKA - SANTA CLARA SANTA CLARA CA',\n",
       "       '    DD DOORDASH DISHNDASH 855-973-1040 CA',\n",
       "       'RESTAURANTS DES ALPES INTERLAKEN', 'SAFEWAY #1990 SANTA CLARA CA',\n",
       "       '*PARKTOWNPIZZ 855-431-0459 CA',\n",
       "       '    TST* FLOW RESTAURANT AND 707-937-3569 CA',\n",
       "       'SAS AIRLINE 1178307098363 RUTHERFORD NJ',\n",
       "       'ZETTLE_*GEIRANGER BREN GEIRANGER',\n",
       "       'SANTA CLARA UTILITIES 408-615-2300 CA', 'RAZ*IndiGo Gurgaon',\n",
       "       'DD DOORDASH DELHIWALA 855-973-1040 CA',\n",
       "       'SAFEWAY #1990 SANTA CLARA CA', 'SAFEWAY #1990 SANTA CLARA CA',\n",
       "       'CKE*FISH IS WILD FISH GRI PINECREST CA',\n",
       "       '    DD DOORDASH ULAVACHAR 855-973-1040 CA',\n",
       "       'FASTRAK CSC 415-486-8655 CA',\n",
       "       '& COMCAST CALIFORNIA 800-COMCAST CA',\n",
       "       'LEMONADE-METROMILE INS WWW.LEMONADE. NY', '440 800-246-3627 CA',\n",
       "       'ALASKA AIR 0272342012441 SEATTLE WA',\n",
       "       'SAS AIRLINE 1178307098360 RUTHERFORD NJ',\n",
       "       '    SAFEWAY #1990 SANTA CLARA CA',\n",
       "       'Restaurant Pizzeria Grazi Wettswil',\n",
       "       '    PY *FIVE SPICE INDIAN GRO SAN JOSE CA',\n",
       "       'SAFEWAY #1990 SANTA CLARA CA', 'Atana Hotel Fz Llc Dubai 1',\n",
       "       'SWIT AG ZERMATT', 'SAFEWAY #1990 SANTA CLARA CA',\n",
       "       'UBER *TRIP HELP.UBER.COM help.uber.com', 'ANNUAL MEMBERSHIP FEE',\n",
       "       'WAL-MART #2119 MILPITAS CA', 'CENTURY THEATRES 440 MILPITAS CA',\n",
       "       'STARBUCKS 800-782-7282 800-782-7282 WA',\n",
       "       'TST* BLOOM - SANTA CLARA Santa Clara CA',\n",
       "       '    SAFEWAY #1990 SANTA CLARA CA',\n",
       "       'SQ *FALAFEL FRESH San Jose CA', 'TARGET 00025817 SAN JOSE CA',\n",
       "       'DD DOORDASH MYINDIANP 855-973-1040 CA',\n",
       "       '    GLOBAL VILLAGE PARTNERS DUBAI', 'FASTRAK CSC 415-486-8655 CA',\n",
       "       '    TST* GOODLIFE CAFE AND BA Mendocino CA',\n",
       "       'SAFEWAY #1990 SANTA CLARA CA', 'CHIPOTLE 2149 SANTA CLARA CA',\n",
       "       'SUPERCUTS #80301 SANTA CLARA CA',\n",
       "       '    STARBUCKS 800-782-7282 800-782-7282 WA', 'COOP MEGA LOM LOM',\n",
       "       'DD DOORDASH ULAVACHAR 855-973-1040 CA',\n",
       "       'TARGET 00025817 SAN JOSE CA',\n",
       "       'VIVID SEATS BNP PARIB 866-848-8499 IL',\n",
       "       'DOMBAAS GJESTEHUS SHUGANG DOMBAAS'], dtype='<U44')"
      ]
     },
     "execution_count": 12,
     "metadata": {},
     "output_type": "execute_result"
    }
   ],
   "source": [
    "X_val"
   ]
  },
  {
   "cell_type": "code",
   "execution_count": 10,
   "metadata": {},
   "outputs": [
    {
     "name": "stdout",
     "output_type": "stream",
     "text": [
      "accuracy 0.9466666666666667\n",
      "              precision    recall  f1-score   support\n",
      "\n",
      "           0       0.93      0.99      0.96       136\n",
      "           1       1.00      0.92      0.96        84\n",
      "           2       0.50      0.40      0.44         5\n",
      "\n",
      "    accuracy                           0.95       225\n",
      "   macro avg       0.81      0.77      0.79       225\n",
      "weighted avg       0.95      0.95      0.95       225\n",
      "\n"
     ]
    }
   ],
   "source": [
    "from sklearn.linear_model import LogisticRegression\n",
    "from sklearn.metrics import accuracy_score\n",
    "from sklearn.naive_bayes import MultinomialNB\n",
    "from sklearn.pipeline import Pipeline\n",
    "from sklearn.feature_extraction.text import CountVectorizer, TfidfTransformer\n",
    "\n",
    "nb = Pipeline([('vect', CountVectorizer()),\n",
    "               ('tfidf', TfidfTransformer()),\n",
    "               ('clf', LogisticRegression(n_jobs=1, C=1e5)),\n",
    "              ])\n",
    "nb.fit(X_train, y_train)\n",
    "\n",
    "from sklearn.metrics import classification_report\n",
    "y_pred = nb.predict(X_val)\n",
    "\n",
    "print('accuracy %s' % accuracy_score(y_pred, y_val))\n",
    "print(classification_report(y_val, y_pred))#,target_names=my_tags))"
   ]
  },
  {
   "cell_type": "code",
   "execution_count": 11,
   "metadata": {},
   "outputs": [],
   "source": [
    "pickle.dump(nb, open('pickle/lr_model.pkl', 'ab'))"
   ]
  }
 ],
 "metadata": {
  "kernelspec": {
   "display_name": "llm",
   "language": "python",
   "name": "python3"
  },
  "language_info": {
   "codemirror_mode": {
    "name": "ipython",
    "version": 3
   },
   "file_extension": ".py",
   "mimetype": "text/x-python",
   "name": "python",
   "nbconvert_exporter": "python",
   "pygments_lexer": "ipython3",
   "version": "3.11.5"
  }
 },
 "nbformat": 4,
 "nbformat_minor": 2
}
