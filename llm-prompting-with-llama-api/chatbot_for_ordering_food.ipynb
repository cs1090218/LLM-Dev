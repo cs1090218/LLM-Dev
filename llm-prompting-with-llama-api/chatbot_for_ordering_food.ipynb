{
 "cells": [
  {
   "cell_type": "code",
   "execution_count": 1,
   "metadata": {},
   "outputs": [],
   "source": [
    "%load_ext autoreload\n",
    "%autoreload 2\n",
    "\n",
    "# import llama helper function\n",
    "from utils import llama, llama_chat\n",
    "\n",
    "# chat bot experience\n",
    "import ipywidgets as widgets\n",
    "from ipywidgets import HBox, VBox\n",
    "from IPython.display import display, HTML\n",
    "import textwrap"
   ]
  },
  {
   "cell_type": "code",
   "execution_count": 2,
   "metadata": {},
   "outputs": [],
   "source": [
    "STARTING_SYSTEM_PROMPT = \"\"\"\n",
    "You are OrderBot, an automated service to collect orders for a pizza restaurant. \\\n",
    "You first greet the customer, then collects the order, \\\n",
    "and then asks if it's a pickup or delivery. \\\n",
    "You wait to collect the entire order, then summarize it and check for a final \\\n",
    "time if the customer wants to add anything else. \\\n",
    "If it's a delivery, you ask for an address. \\\n",
    "Finally you collect the payment.\\\n",
    "Make sure to clarify all options, extras and sizes to uniquely \\\n",
    "identify the item from the menu.\\\n",
    "You respond in a short, very conversational friendly style. \\\n",
    "The menu includes \\\n",
    "pepperoni pizza  12.95, 10.00, 7.00 \\\n",
    "cheese pizza   10.95, 9.25, 6.50 \\\n",
    "eggplant pizza   11.95, 9.75, 6.75 \\\n",
    "fries 4.50, 3.50 \\\n",
    "greek salad 7.25 \\\n",
    "Toppings: \\\n",
    "extra cheese 2.00, \\\n",
    "mushrooms 1.50 \\\n",
    "sausage 3.00 \\\n",
    "canadian bacon 3.50 \\\n",
    "AI sauce 1.50 \\\n",
    "peppers 1.00 \\\n",
    "Drinks: \\\n",
    "coke 3.00, 2.00, 1.00 \\\n",
    "sprite 3.00, 2.00, 1.00 \\\n",
    "bottled water 5.00 \\\n",
    "If asked say that your address is 401 Charming Avenue, Colorado.\n",
    "\"\"\"\n",
    "\n",
    "system_message = STARTING_SYSTEM_PROMPT\n",
    "user_messages = []\n",
    "responses = []"
   ]
  },
  {
   "cell_type": "code",
   "execution_count": 3,
   "metadata": {},
   "outputs": [
    {
     "name": "stderr",
     "output_type": "stream",
     "text": [
      "/var/folders/r9/gt76btqd6vndyjbxhtlfs3qm006j3x/T/ipykernel_63656/3431284722.py:32: DeprecationWarning: on_submit is deprecated. Instead, set the .continuous_update attribute to False and observe the value changing with: mywidget.observe(callback, 'value').\n",
      "  textbox.on_submit(send_message)\n"
     ]
    },
    {
     "data": {
      "application/vnd.jupyter.widget-view+json": {
       "model_id": "7816bd64a4f3475582ab767c5396ad59",
       "version_major": 2,
       "version_minor": 0
      },
      "text/plain": [
       "VBox(children=(HBox(children=(Text(value='', description='Chat:', placeholder='Enter message...'), Button(desc…"
      ]
     },
     "metadata": {},
     "output_type": "display_data"
    }
   ],
   "source": [
    "textbox = widgets.Text(placeholder='Enter message...', description=\"Chat:\")\n",
    "send_msg_button = widgets.Button(description='Send message')\n",
    "reset_button = widgets.Button(description='Start Over!')\n",
    "output = widgets.Output(layout={'border': '1px solid black'})\n",
    "\n",
    "def reset_context(_):\n",
    "    system_message = STARTING_SYSTEM_PROMPT\n",
    "    user_messages = []\n",
    "    responses = []\n",
    "    output.clear_output()\n",
    "\n",
    "\n",
    "def add_msg_to_context(msg):\n",
    "    user_messages.append(msg)\n",
    "    response = llama_chat(system_message, user_messages, responses)\n",
    "    responses.append(response)\n",
    "    return response\n",
    "\n",
    "\n",
    "def send_message(_):\n",
    "    msg = textbox.value\n",
    "    textbox.value = \"\"\n",
    "    with output:\n",
    "        display(HTML(\"<b>You: </b>\" + msg + \"<br /><br />\"))\n",
    "    response = textwrap.fill(add_msg_to_context(msg), 150)\n",
    "    with output:\n",
    "        display(HTML(\"<b>Assisstant: </b>\" + response + \"<br /><br />\"))\n",
    "\n",
    "\n",
    "send_msg_button.on_click(send_message)\n",
    "reset_button.on_click(reset_context)\n",
    "textbox.on_submit(send_message)\n",
    "\n",
    "display(VBox(children=[HBox(children=[textbox, send_msg_button, reset_button]), output]))"
   ]
  }
 ],
 "metadata": {
  "kernelspec": {
   "display_name": "llm",
   "language": "python",
   "name": "python3"
  },
  "language_info": {
   "codemirror_mode": {
    "name": "ipython",
    "version": 3
   },
   "file_extension": ".py",
   "mimetype": "text/x-python",
   "name": "python",
   "nbconvert_exporter": "python",
   "pygments_lexer": "ipython3",
   "version": "3.11.7"
  }
 },
 "nbformat": 4,
 "nbformat_minor": 2
}
