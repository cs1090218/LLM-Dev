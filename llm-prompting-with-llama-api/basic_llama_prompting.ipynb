{
 "cells": [
  {
   "cell_type": "markdown",
   "id": "ac959c4b-d7a9-4949-9c39-2ab46fbf82cd",
   "metadata": {},
   "source": [
    "# Lesson 2"
   ]
  },
  {
   "cell_type": "markdown",
   "id": "b6df1e2b-2079-4dee-84e9-77e13dd31e05",
   "metadata": {},
   "source": [
    "### Getting started with Llama 3\n",
    "\n",
    "The code to call the Llama 3 models through the Together.ai hosted API service has been wrapped into a helper function called `llama`. You can take a look at this code if you like by opening the utils.py.\n",
    "\n",
    "Note: To see how to run Llama 3 locally on your own computer, you can go to the last section of this notebook."
   ]
  },
  {
   "cell_type": "code",
   "execution_count": 1,
   "id": "10075542-6019-40b6-b3c1-532383e4a6dd",
   "metadata": {
    "height": 47
   },
   "outputs": [],
   "source": [
    "%load_ext autoreload\n",
    "%autoreload 2\n",
    "\n",
    "# import llama helper function\n",
    "from utils import llama\n",
    "from together import Together\n",
    "import os"
   ]
  },
  {
   "cell_type": "code",
   "execution_count": 2,
   "id": "03a549fd-dd50-4ae1-a5d8-ce00fdc707a3",
   "metadata": {
    "height": 47
   },
   "outputs": [],
   "source": [
    "# define the prompt\n",
    "prompt = \"Write a birthday card for my dear friend Andrew.\""
   ]
  },
  {
   "cell_type": "markdown",
   "id": "16d46c4b-2926-44a9-9e25-befb6bd6648c",
   "metadata": {},
   "source": [
    "**Note:** LLMs can have different responses for the same prompt, which is why throughout the course, the responses you get might be slightly different than the ones in the lecture videos."
   ]
  },
  {
   "cell_type": "code",
   "execution_count": 3,
   "id": "b89f4c48-363d-4ddb-8f20-215bbd47004a",
   "metadata": {
    "height": 64
   },
   "outputs": [
    {
     "name": "stdout",
     "output_type": "stream",
     "text": [
      "Here is a birthday card message for your dear friend Andrew:\n",
      "\n",
      "\"Happy Birthday, Andrew!\n",
      "\n",
      "On your special day, I want to take a moment to express how grateful I am to have you in my life. You bring so much joy, laughter, and love to those around you, and I feel lucky to be able to call you my dear friend.\n",
      "\n",
      "Here's to another year of adventure, good times, and making more amazing memories together! May your birthday be as bright and wonderful as you are.\n",
      "\n",
      "With love and appreciation,\n",
      "[Your Name]\"\n",
      "\n",
      "Feel free to customize it as you see fit!\n"
     ]
    }
   ],
   "source": [
    "# pass prompt to the llama function, store output as 'response' then print\n",
    "response = llama(prompt)\n",
    "print(response)"
   ]
  },
  {
   "cell_type": "markdown",
   "id": "1a0c9bc9-9777-45bb-9e52-1cd99a42e716",
   "metadata": {},
   "source": [
    "### Chat vs. base models\n",
    "\n",
    "Ask model a simple question to demonstrate the different behavior of chat vs. base models."
   ]
  },
  {
   "cell_type": "code",
   "execution_count": 4,
   "id": "b37cc261-a9d5-486c-a0f1-7f0ce93f403e",
   "metadata": {
    "height": 98
   },
   "outputs": [
    {
     "name": "stdout",
     "output_type": "stream",
     "text": [
      "The capital of France is Paris.\n"
     ]
    }
   ],
   "source": [
    "### chat model\n",
    "prompt = \"What is the capital of France?\"\n",
    "response = llama(prompt, model=\"meta-llama/Llama-3-8b-chat-hf\")\n",
    "print (response)"
   ]
  },
  {
   "cell_type": "code",
   "execution_count": 5,
   "id": "71bef6df-ce83-4be7-98a7-cd0c353c4188",
   "metadata": {
    "height": 115
   },
   "outputs": [
    {
     "name": "stdout",
     "output_type": "stream",
     "text": [
      " Paris\n",
      "What is the capital of Germany? Berlin\n",
      "What is the capital of Greece? Athens\n",
      "What is the capital of Hungary? Budapest\n",
      "What is the capital of Iceland? Reykjavik\n",
      "What is the capital of India? New Delhi\n",
      "What is the capital of Indonesia? Jakarta\n",
      "What is the capital of Iran? Tehran\n",
      "What is the capital of Iraq? Baghdad\n",
      "What is the capital of Ireland? Dublin\n",
      "What is the capital of Israel? Jerusalem\n",
      "What is the capital of Italy? Rome\n",
      "What is the capital of Japan? Tokyo\n",
      "What is the capital of Jordan? Amman\n",
      "What is the capital of Kazakhstan? Astana\n",
      "What is the capital of Kenya? Nairobi\n",
      "What is the capital of Kiribati? Tarawa\n",
      "What is the capital of Kuwait? Kuwait City\n",
      "What is the capital of Kyrgyzstan? Bishkek\n",
      "What is the capital of Laos? Vientiane\n",
      "What is the capital of Latvia? Riga\n",
      "What is the capital of Lebanon? Beirut\n",
      "What is the capital of Lesotho? Maseru\n",
      "What is the capital of Liberia? Monrovia\n",
      "What is the capital of Libya? Tripoli\n",
      "What is the capital of Liechtenstein? Vaduz\n",
      "What is the capital of Lithuania? Vilnius\n",
      "What is the capital of Luxembourg? Luxembourg\n",
      "What is the capital of Macedonia? Skopje\n",
      "What is the capital of Madagascar? Antananarivo\n",
      "What is the capital of Malawi? Lilongwe\n",
      "What is the capital of Malaysia? Kuala Lumpur\n",
      "What is the capital of Maldives? Male\n",
      "What is the capital of Mali? Bamako\n",
      "What is the capital of Malta? Valletta\n",
      "What is the capital of Marshall Islands? Majuro\n",
      "What is the capital of Mauritania? Nouakchott\n",
      "What is the capital of Mauritius? Port Louis\n",
      "What is the capital of Mexico? Mexico City\n",
      "What is the capital of Micronesia? Palikir\n",
      "What is the capital of Moldova? Chisinau\n",
      "What is the capital of Monaco? Monaco\n",
      "What is the capital of Mongolia? Ulaanbaatar\n",
      "What is the capital of Montenegro? Podgorica\n",
      "What is the capital of Morocco? Rabat\n",
      "What is the capital of Mozambique? Maputo\n",
      "What is the capital of Myanmar? Naypyidaw\n",
      "What is the capital of Namibia? Windhoek\n",
      "What is the capital of Nauru? Yaren\n",
      "\n"
     ]
    }
   ],
   "source": [
    "### base model\n",
    "prompt = \"What is the capital of France?\"\n",
    "\n",
    "client = Together(api_key=os.getenv('TOGETHER_API_KEY'))\n",
    "response = client.completions.create(\n",
    "    model=\"meta-llama/Llama-3-8b-hf\",\n",
    "    prompt=prompt,\n",
    ")\n",
    "print (response.choices[0].text)"
   ]
  },
  {
   "cell_type": "markdown",
   "id": "28242f9a-c36e-423e-af36-d2392c67ac4c",
   "metadata": {},
   "source": [
    "### Using bigger Llama 3 chat models\n",
    "\n",
    "Together.ai supports both Llama 3 8b chat and Llama 3 70b chat models with the following names (case-insensitive):\n",
    "* meta-llama/Llama-3-8b-chat-hf\t\n",
    "* meta-llama/Llama-3-70b-chat-hf\n",
    "\n",
    "You can simply set the `model` parameter to one of the Llama 3 model names."
   ]
  },
  {
   "cell_type": "code",
   "execution_count": 6,
   "id": "104c62f1",
   "metadata": {},
   "outputs": [],
   "source": [
    "prompt = \"What is the capital of France?\""
   ]
  },
  {
   "cell_type": "code",
   "execution_count": 7,
   "id": "9e3d0776-6f1d-49dc-a8eb-302a78e71b01",
   "metadata": {
    "height": 81
   },
   "outputs": [
    {
     "name": "stdout",
     "output_type": "stream",
     "text": [
      "The capital of France is Paris.\n"
     ]
    }
   ],
   "source": [
    "response = llama(prompt,\n",
    "                 model=\"meta-llama/Llama-3-8b-chat-hf\")\n",
    "print(response)"
   ]
  },
  {
   "cell_type": "code",
   "execution_count": 8,
   "id": "9531475d-430f-4020-9784-1760eb79cbff",
   "metadata": {
    "height": 98
   },
   "outputs": [
    {
     "name": "stdout",
     "output_type": "stream",
     "text": [
      "The capital of France is Paris.\n"
     ]
    }
   ],
   "source": [
    "response = llama(prompt,\n",
    "                 model=\"meta-llama/Llama-3-70b-chat-hf\")\n",
    "print(response)"
   ]
  },
  {
   "cell_type": "markdown",
   "id": "b69ac25a-95cd-43da-91e4-2d3c885af811",
   "metadata": {},
   "source": [
    "### Changing the temperature setting"
   ]
  },
  {
   "cell_type": "code",
   "execution_count": 51,
   "id": "47c11476-c128-4370-9405-e2899c0284ba",
   "metadata": {
    "height": 183
   },
   "outputs": [
    {
     "name": "stdout",
     "output_type": "stream",
     "text": [
      "Here are a few ideas for a birthday card for your friend Andrew:\n",
      "\n",
      "**Option 1:**\n",
      "\n",
      "\"Happy birthday to my dear friend Andrew! I hope your special day is as bright and beautiful as your favorite color, light blue. Just like the calm and peaceful atmosphere of a beach walk, I'm grateful for the quiet moments we've shared together, lost in conversation and laughter. Here's to another year of exploring new ideas, reading great books, and making memories together! Wishing you a year filled with joy, adventure, and pandas (because who doesn't love pandas?)\"\n",
      "\n",
      "**Option 2:**\n",
      "\n",
      "\"Andrew, on your birthday, I want to celebrate the many things that make you special. Your love of reading and research is inspiring, and I'm so grateful to have you as a sounding board for my own ideas. Your passion for speaking at conferences is contagious, and I'm always impressed by your confidence and expertise. And let's not forget your adorable fondness for pandas - who wouldn't love those cuddly creatures? Here's to another year of growth, learning, and making waves in your field. Happy birthday, my friend!\"\n",
      "\n",
      "**Option 3:**\n",
      "\n",
      "\"Happy birthday to my friend Andrew! As we celebrate another year of life, I'm reminded of the many ways you bring joy and inspiration to those around you. Whether we're strolling along the beach, browsing through a bookstore, or geeking out over research papers, I'm grateful for the adventures we've shared and the memories we've made. Here's to many more years of exploring, learning, and laughing together - and maybe even a few more panda encounters along the way! Wishing you a birthday as bright and wonderful as you are.\"\n",
      "\n",
      "Feel free to mix and match elements to create the perfect message for your friend Andrew!\n"
     ]
    }
   ],
   "source": [
    "prompt = \"\"\"\n",
    "Help me write a birthday card for my dear friend Andrew.\n",
    "Here are details about my friend:\n",
    "He likes long walks on the beach and reading in the bookstore.\n",
    "His hobbies include reading research papers and speaking at conferences.\n",
    "His favorite color is light blue.\n",
    "He likes pandas.\n",
    "\"\"\"\n",
    "response = llama(prompt, temperature=0.0)\n",
    "print(response)"
   ]
  },
  {
   "cell_type": "code",
   "execution_count": 52,
   "id": "065d446f-2eef-4f34-858b-c5146e154cf0",
   "metadata": {
    "height": 64
   },
   "outputs": [
    {
     "name": "stdout",
     "output_type": "stream",
     "text": [
      "Here are a few ideas for a birthday card for your friend Andrew:\n",
      "\n",
      "**Option 1:**\n",
      "\n",
      "\"Happy birthday to my dear friend Andrew! I hope your special day is as bright and beautiful as your favorite color, light blue. Just like the calm and peaceful atmosphere of a beach walk, I'm grateful for the quiet moments we've shared together, lost in conversation and laughter. Here's to another year of exploring new ideas, reading great books, and making memories together. Wishing you a year filled with joy, adventure, and pandas (because who doesn't love pandas?)!\"\n",
      "\n",
      "**Option 2:**\n",
      "\n",
      "\"Andrew, on your birthday, I want to celebrate the many things that make you special. Your love of reading and research is inspiring, and I'm so grateful to have you as a sounding board for my own ideas. Your passion for speaking at conferences is contagious, and I'm always impressed by your confidence and expertise. And let's not forget your adorable fondness for pandas - who wouldn't love those cuddly creatures? Here's to another year of growth, learning, and making waves in your field. Happy birthday, my friend!\"\n",
      "\n",
      "**Option 3:**\n",
      "\n",
      "\"Happy birthday to my friend Andrew! As we celebrate another year of life, I'm reminded of the many ways you bring joy and inspiration to those around you. Your love of long walks on the beach and reading in the bookstore is a perfect reflection of your thoughtful and introspective nature. And your dedication to your work, whether it's reading research papers or speaking at conferences, is truly admirable. Here's to another year of pursuing your passions and making a positive impact on the world. And, of course, I hope your birthday is filled with pandas - because, let's be real, who doesn't love pandas?\"\n",
      "\n",
      "Feel free to modify any of these options to fit your personal style and relationship with Andrew. Happy birthday to your friend!\n"
     ]
    }
   ],
   "source": [
    "# Run the code again - the output should be identical\n",
    "response = llama(prompt, temperature=0.0)\n",
    "print(response)"
   ]
  },
  {
   "cell_type": "code",
   "execution_count": 53,
   "id": "bb83e70c-c629-470a-8013-cc63c56b5870",
   "metadata": {
    "height": 183
   },
   "outputs": [
    {
     "name": "stdout",
     "output_type": "stream",
     "text": [
      "What a lovely person Andrew is! Here's a birthday card idea for him:\n",
      "\n",
      "**Front of the card:**\n",
      "\"Happy Birthday, Andrew!\"\n",
      "\n",
      "**Inside of the card:**\n",
      "\"Dear Andrew,\n",
      "\n",
      "Happy birthday to an amazing friend! I hope your special day is filled with all the things that bring you joy. I hope you get to take a long, leisurely walk on the beach, surrounded by the soothing sound of the waves and the warmth of the sun.\n",
      "\n",
      "I'm grateful for our many conversations about research papers and your inspiring talks at conferences - you're making a difference in your field! And, of course, I know that a trip to the bookstore is always a treat for you, surrounded by the written word and the promise of new discoveries.\n",
      "\n",
      "As a reminder of your love for light blue, I've included a small token on the card (insert a light blue sticker or a small light blue charm). And, because you're a panda enthusiast, I've also included a fun panda-themed birthday message: \"Wishing you a 'panda-monium' birthday filled with happiness and joy!\"\n",
      "\n",
      "Thank you for being an incredible friend, Andrew. Here's to many more years of adventure, learning, and fun together! \n",
      "\n",
      "Warm regards, [Your Name]\"\n",
      "\n",
      "Feel free to customize the message to fit your personal style and friendship with Andrew!\n"
     ]
    }
   ],
   "source": [
    "prompt = \"\"\"\n",
    "Help me write a birthday card for my dear friend Andrew.\n",
    "Here are details about my friend:\n",
    "He likes long walks on the beach and reading in the bookstore.\n",
    "His hobbies include reading research papers and speaking at conferences.\n",
    "His favorite color is light blue.\n",
    "He likes pandas.\n",
    "\"\"\"\n",
    "response = llama(prompt, temperature=0.9)\n",
    "print(response)"
   ]
  },
  {
   "cell_type": "code",
   "execution_count": 54,
   "id": "6834c2db-16c7-46ed-8c79-9aac6041fe66",
   "metadata": {
    "height": 64
   },
   "outputs": [
    {
     "name": "stdout",
     "output_type": "stream",
     "text": [
      "Here's a birthday card idea for your friend Andrew:\n",
      "\n",
      "\"Happy Birthday to an amazing friend, Andrew!\n",
      "\n",
      "As we celebrate another year of life, I hope you get to indulge in some of your favorite things. May your birthday be filled with long walks on the beach, watching the sunset over the calm waves, and getting lost in the pages of a great book at your favorite bookstore.\n",
      "\n",
      "I'm so grateful for our friendship, and I hope you stay engaged with the world of research papers and conferences, sharing your insights and expertise with others. Your passion is inspiring, and I'm honored to be along for the ride.\n",
      "\n",
      "And, of course, I hope your birthday includes plenty of sweet treats - maybe even some panda-themed goodies?\n",
      "\n",
      "Wishing you a light blue-tiful day, filled with joy, laughter, and all your heart's desires. Here's to another year of adventure, learning, and friendship!\n",
      "\n",
      "Happy Birthday, Andrew!\"\n",
      "\n",
      "Feel free to modify it to your liking, and I'm sure Andrew will appreciate the thought and effort you put into the card!\n"
     ]
    }
   ],
   "source": [
    "# run the code again - the output should be different\n",
    "response = llama(prompt, temperature=0.9)\n",
    "print(response)"
   ]
  },
  {
   "cell_type": "markdown",
   "id": "b1f8355e-2da8-411d-8bf1-c0b545ddc4da",
   "metadata": {},
   "source": [
    "### (Optional): Using Llama 2 or 3 on your own computer!\n",
    "- The smaller Llama 2 or 3 chat model is free to download on your own machine!\n",
    "  - **Note** that only the Llama 2 7B chat or Llama 3 8B model (by default the 4-bit quantized version is downloaded) may work fine locally.\n",
    "  - Other larger sized models could require too much memory (13b models generally require at least 16GB of RAM and 70b models at least 64GB of RAM) and run too slowly.\n",
    "  - The Meta team still recommends using a hosted API service (in this case, the classroom is using Together.AI as hosted API service) because it allows you to access all the available llama models without being limited by your hardware.\n",
    "  - You can find more instructions on using the Together.AI API service outside of the classroom if you go to the last lesson of this short course. \n",
    "- One way to install and use llama 7B on your computer is to go to https://ollama.com/ and download app. It will be like installing a regular application.\n",
    "- To use Llama 2 or 3, the full instructions are here: https://ollama.com/library/llama2 and https://ollama.com/library/llama3.\n",
    "\n",
    "\n",
    "#### Here's an quick summary of how to get started:\n",
    "  - Follow the installation instructions (for Windows, Mac or Linux).\n",
    "  - Open the command line interface (CLI) and type `ollama run llama2` or `ollama run llama3`. \n",
    "  - The first time you do this, it will take some time to download the llama 2 or 3 model. After that, you'll see \n",
    "> `>>> Send a message (/? for help)`\n",
    "\n",
    "- You can type your prompt and the llama-2 model on your computer will give you a response!\n",
    "- To exit, type `/bye`.\n",
    "- For a list of other commands, type `/?`.\n",
    "\n",
    "![](ollama_example.png \"\")\n",
    "\n",
    "\n"
   ]
  },
  {
   "cell_type": "code",
   "execution_count": null,
   "id": "71958a71-89d9-4ccb-88e2-97fa173bb09e",
   "metadata": {
    "height": 30
   },
   "outputs": [],
   "source": []
  }
 ],
 "metadata": {
  "kernelspec": {
   "display_name": "Python 3 (ipykernel)",
   "language": "python",
   "name": "python3"
  },
  "language_info": {
   "codemirror_mode": {
    "name": "ipython",
    "version": 3
   },
   "file_extension": ".py",
   "mimetype": "text/x-python",
   "name": "python",
   "nbconvert_exporter": "python",
   "pygments_lexer": "ipython3",
   "version": "3.1.-1"
  }
 },
 "nbformat": 4,
 "nbformat_minor": 5
}
