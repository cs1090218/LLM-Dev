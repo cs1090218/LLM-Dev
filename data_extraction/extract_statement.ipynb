{
 "cells": [
  {
   "cell_type": "code",
   "execution_count": 37,
   "metadata": {},
   "outputs": [
    {
     "name": "stdout",
     "output_type": "stream",
     "text": [
      "The autoreload extension is already loaded. To reload it, use:\n",
      "  %reload_ext autoreload\n"
     ]
    }
   ],
   "source": [
    "%load_ext autoreload\n",
    "%autoreload 2\n",
    "\n",
    "import pdfplumber\n",
    "import re\n",
    "\n",
    "from utils import create_new_sheet, write_content, format_sheet\n",
    "\n",
    "import os\n",
    "os.remove('../google_token.json')"
   ]
  },
  {
   "cell_type": "code",
   "execution_count": 38,
   "metadata": {},
   "outputs": [],
   "source": [
    "############ Update the following parameters ##################\n",
    "FILEPATH = \"../data/Nov statement.pdf\"\n",
    "NEW_SHEET_NAME = \"Nov 2024\""
   ]
  },
  {
   "cell_type": "code",
   "execution_count": 39,
   "metadata": {},
   "outputs": [],
   "source": [
    "SPREADSHEET_ID = \"1Ik2lyOO5MN9a8-hEUf4sRqUlP3WcN36ItekQSGV4NxY\""
   ]
  },
  {
   "cell_type": "code",
   "execution_count": 40,
   "metadata": {},
   "outputs": [],
   "source": [
    "pdf_lines = []\n",
    "with pdfplumber.open(FILEPATH) as pdf:\n",
    "    for page_id in range(len(pdf.pages)):\n",
    "        page = pdf.pages[page_id]\n",
    "        pdf_lines.extend(page.extract_text_lines())\n",
    "pdf_lines = [line['text'] for line in pdf_lines]"
   ]
  },
  {
   "cell_type": "code",
   "execution_count": 41,
   "metadata": {},
   "outputs": [],
   "source": [
    "import pickle\n",
    "from sklearn.linear_model import LogisticRegression\n",
    "from sklearn.naive_bayes import MultinomialNB\n",
    "from sklearn.pipeline import Pipeline\n",
    "from sklearn.feature_extraction.text import CountVectorizer, TfidfTransformer\n",
    "\n",
    "# lr_model = Pipeline([('vect', CountVectorizer()),\n",
    "#                ('tfidf', TfidfTransformer()),\n",
    "#                ('clf', LogisticRegression(n_jobs=1, C=1e5)),\n",
    "#               ])\n",
    "\n",
    "lr_model = pickle.load(open('pickle/lr_model.pkl', 'rb'))"
   ]
  },
  {
   "cell_type": "code",
   "execution_count": 42,
   "metadata": {},
   "outputs": [],
   "source": [
    "id_to_label = {0: 'Regular', 1: 'Trip', 2: 'Hobby'}"
   ]
  },
  {
   "cell_type": "code",
   "execution_count": 43,
   "metadata": {},
   "outputs": [],
   "source": [
    "regex_pattern = \"^(\\d\\d/\\d\\d.*) (-*[\\d\\.,]+)$\"\n",
    "accumulated_content = []\n",
    "for line in pdf_lines:\n",
    "    if \"AUTOMATIC PAYMENT\" in line:\n",
    "        continue\n",
    "    re_search = re.search(regex_pattern, line)\n",
    "    if re_search is not None:\n",
    "        transaction_name = re_search.group(1)\n",
    "        expense_type_id = lr_model.predict([transaction_name])[0]\n",
    "        expense_type = id_to_label[expense_type_id] if expense_type_id in id_to_label else 'Regular'\n",
    "        cost = float(re_search.group(2).replace(',', ''))\n",
    "        accumulated_content.append([transaction_name, cost, expense_type])"
   ]
  },
  {
   "cell_type": "code",
   "execution_count": 44,
   "metadata": {},
   "outputs": [],
   "source": [
    "# Sort the content according to the transaction date\n",
    "accumulated_content = sorted(accumulated_content, key=lambda x: x[0].split(' ')[0])\n",
    "\n",
    "for i in range(len(accumulated_content)):\n",
    "    row_id = i + 2\n",
    "    regular_cost = f'=IF(C{row_id}=\"Regular\", B{row_id}, 0)'\n",
    "    trip_cost = f'=IF(C{row_id}=\"Trip\", B{row_id}, 0)'\n",
    "    hobby_cost = f'=IF(C{row_id}=\"Hobby\", B{row_id}, 0)'\n",
    "    accumulated_content[i].append(regular_cost)\n",
    "    accumulated_content[i].append(trip_cost)\n",
    "    accumulated_content[i].append(hobby_cost)\n",
    "\n",
    "accumulated_content = [['Transaction', 'Cost', 'Type', 'Regular expenses', 'Trip expenses', 'Hobby expenses']] + accumulated_content + [['', f'=SUM(B2:B{row_id})', '', f'=SUM(D2:D{row_id})', f'=SUM(E2:E{row_id})', f'=SUM(F2:F{row_id})', f'=SUM(D{row_id+1}:F{row_id+1})']]"
   ]
  },
  {
   "cell_type": "code",
   "execution_count": 45,
   "metadata": {},
   "outputs": [],
   "source": [
    "# Sort the content according to the transaction date\n",
    "# accumulated_content = [accumulated_content[0]] + sorted(accumulated_content[1:-1], key=lambda x: x[0].split(' ')[0]) + [accumulated_content[-1]]"
   ]
  },
  {
   "cell_type": "code",
   "execution_count": 46,
   "metadata": {},
   "outputs": [
    {
     "name": "stdout",
     "output_type": "stream",
     "text": [
      "Transaction***Cost***Type***Regular expenses***Trip expenses***Hobby expenses\n",
      "11/08 DD *DOORDASH ULAVACHAR 855-431-0459 CA***32.3***Regular***=IF(C2=\"Regular\", B2, 0)***=IF(C2=\"Trip\", B2, 0)***=IF(C2=\"Hobby\", B2, 0)\n",
      "11/08 PMUSA 718090 SAN JOSE 770-8189036 GA***10.0***Regular***=IF(C3=\"Regular\", B3, 0)***=IF(C3=\"Trip\", B3, 0)***=IF(C3=\"Hobby\", B3, 0)\n",
      "11/10 7-ELEVEN 14243 SANTA CLARA CA***12.97***Regular***=IF(C4=\"Regular\", B4, 0)***=IF(C4=\"Trip\", B4, 0)***=IF(C4=\"Hobby\", B4, 0)\n",
      "11/10 SAFEWAY #1990 SANTA CLARA CA***24.78***Regular***=IF(C5=\"Regular\", B5, 0)***=IF(C5=\"Trip\", B5, 0)***=IF(C5=\"Hobby\", B5, 0)\n",
      "11/12 SAFEWAY #1990 SANTA CLARA CA***4.35***Regular***=IF(C6=\"Regular\", B6, 0)***=IF(C6=\"Trip\", B6, 0)***=IF(C6=\"Hobby\", B6, 0)\n",
      "11/13 EXPEDIA 72963555695439 EXPEDIA.COM WA***667.27***Trip***=IF(C7=\"Regular\", B7, 0)***=IF(C7=\"Trip\", B7, 0)***=IF(C7=\"Hobby\", B7, 0)\n",
      "11/13 SQ *CHULA PUEBLA San Jose CA***37.73***Regular***=IF(C8=\"Regular\", B8, 0)***=IF(C8=\"Trip\", B8, 0)***=IF(C8=\"Hobby\", B8, 0)\n",
      "11/13 EXPEDIA 72963534759844 EXPEDIA.COM WA***105.09***Trip***=IF(C9=\"Regular\", B9, 0)***=IF(C9=\"Trip\", B9, 0)***=IF(C9=\"Hobby\", B9, 0)\n",
      "11/13 EXPEDIA 72963534759844 EXPEDIA.COM WA***630.48***Trip***=IF(C10=\"Regular\", B10, 0)***=IF(C10=\"Trip\", B10, 0)***=IF(C10=\"Hobby\", B10, 0)\n",
      "11/13 FIJI AIRWAYS2602426903743 SYDNEY***286.7***Trip***=IF(C11=\"Regular\", B11, 0)***=IF(C11=\"Trip\", B11, 0)***=IF(C11=\"Hobby\", B11, 0)\n",
      "11/13 FIJI AIRWAYS2602426903744 SYDNEY***286.7***Trip***=IF(C12=\"Regular\", B12, 0)***=IF(C12=\"Trip\", B12, 0)***=IF(C12=\"Hobby\", B12, 0)\n",
      "11/14 VIATORTRIPADVISOR US 702-749-5744 CA***291.68***Trip***=IF(C13=\"Regular\", B13, 0)***=IF(C13=\"Trip\", B13, 0)***=IF(C13=\"Hobby\", B13, 0)\n",
      "11/14 SAFEWAY #1990 SANTA CLARA CA***35.27***Regular***=IF(C14=\"Regular\", B14, 0)***=IF(C14=\"Trip\", B14, 0)***=IF(C14=\"Hobby\", B14, 0)\n",
      "11/15 CHIPOTLE ONLINE CHIPOTLE.COM CA***28.37***Regular***=IF(C15=\"Regular\", B15, 0)***=IF(C15=\"Trip\", B15, 0)***=IF(C15=\"Hobby\", B15, 0)\n",
      "11/16 SQ *MOMO GRILL FOOD TRUCK Santa Clara CA***19.19***Regular***=IF(C16=\"Regular\", B16, 0)***=IF(C16=\"Trip\", B16, 0)***=IF(C16=\"Hobby\", B16, 0)\n",
      "11/16 Supercuts Santa Clara CA***34.74***Regular***=IF(C17=\"Regular\", B17, 0)***=IF(C17=\"Trip\", B17, 0)***=IF(C17=\"Hobby\", B17, 0)\n",
      "11/16 Supercuts Santa Clara CA***100.0***Regular***=IF(C18=\"Regular\", B18, 0)***=IF(C18=\"Trip\", B18, 0)***=IF(C18=\"Hobby\", B18, 0)\n",
      "11/16 GOOGLE *Colab cc@google.com CA***9.99***Regular***=IF(C19=\"Regular\", B19, 0)***=IF(C19=\"Trip\", B19, 0)***=IF(C19=\"Hobby\", B19, 0)\n",
      "11/16 JOHAL CHAAT AND CURRY SUNNYVALE CA***18.81***Regular***=IF(C20=\"Regular\", B20, 0)***=IF(C20=\"Trip\", B20, 0)***=IF(C20=\"Hobby\", B20, 0)\n",
      "11/16 PINTS OF JOY SUNNYVALE CA***24.33***Regular***=IF(C21=\"Regular\", B21, 0)***=IF(C21=\"Trip\", B21, 0)***=IF(C21=\"Hobby\", B21, 0)\n",
      "11/17 COMCAST CALIFORNIA 800-COMCAST CA***70.0***Regular***=IF(C22=\"Regular\", B22, 0)***=IF(C22=\"Trip\", B22, 0)***=IF(C22=\"Hobby\", B22, 0)\n",
      "11/17 EVGO SERVICES LLC 877-494-3833 CA***21.69***Regular***=IF(C23=\"Regular\", B23, 0)***=IF(C23=\"Trip\", B23, 0)***=IF(C23=\"Hobby\", B23, 0)\n",
      "11/17 SAFEWAY #1990 SANTA CLARA CA***16.26***Regular***=IF(C24=\"Regular\", B24, 0)***=IF(C24=\"Trip\", B24, 0)***=IF(C24=\"Hobby\", B24, 0)\n",
      "11/18 GOOGLE *Colab cc@google.com CA***9.99***Regular***=IF(C25=\"Regular\", B25, 0)***=IF(C25=\"Trip\", B25, 0)***=IF(C25=\"Hobby\", B25, 0)\n",
      "11/21 GRUBHUB*THEYELLOWCHILL GRUBHUB.COM NY***70.66***Regular***=IF(C26=\"Regular\", B26, 0)***=IF(C26=\"Trip\", B26, 0)***=IF(C26=\"Hobby\", B26, 0)\n",
      "11/21 SQ *QUICKCHAAT Fremont CA***10.06***Regular***=IF(C27=\"Regular\", B27, 0)***=IF(C27=\"Trip\", B27, 0)***=IF(C27=\"Hobby\", B27, 0)\n",
      "11/21 SQ *FIVE SPICE INDIAN GRO San Jose CA***136.24***Regular***=IF(C28=\"Regular\", B28, 0)***=IF(C28=\"Trip\", B28, 0)***=IF(C28=\"Hobby\", B28, 0)\n",
      "11/22 GOOGLE *YouTubePremium g.co/helppay# CA***22.99***Regular***=IF(C29=\"Regular\", B29, 0)***=IF(C29=\"Trip\", B29, 0)***=IF(C29=\"Hobby\", B29, 0)\n",
      "11/23 SQ *MOMO GRILL FOOD TRUCK Santa Clara CA***47.64***Regular***=IF(C30=\"Regular\", B30, 0)***=IF(C30=\"Trip\", B30, 0)***=IF(C30=\"Hobby\", B30, 0)\n",
      "11/23 KHOOBSURAT THREADING SALO SANTA CLARA CA***206.0***Regular***=IF(C31=\"Regular\", B31, 0)***=IF(C31=\"Trip\", B31, 0)***=IF(C31=\"Hobby\", B31, 0)\n",
      "11/23 SAFEWAY #1990 SANTA CLARA CA***8.97***Regular***=IF(C32=\"Regular\", B32, 0)***=IF(C32=\"Trip\", B32, 0)***=IF(C32=\"Hobby\", B32, 0)\n",
      "11/23 SAFEWAY #1990 SANTA CLARA CA***19.63***Regular***=IF(C33=\"Regular\", B33, 0)***=IF(C33=\"Trip\", B33, 0)***=IF(C33=\"Hobby\", B33, 0)\n",
      "11/24 TST*PEDROS SANTA CLARA Santa Clara CA***73.74***Regular***=IF(C34=\"Regular\", B34, 0)***=IF(C34=\"Trip\", B34, 0)***=IF(C34=\"Hobby\", B34, 0)\n",
      "11/24 SAFEWAY #1990 SANTA CLARA CA***10.78***Regular***=IF(C35=\"Regular\", B35, 0)***=IF(C35=\"Trip\", B35, 0)***=IF(C35=\"Hobby\", B35, 0)\n",
      "11/25 Disney Plus 888-9057888 CA***9.99***Regular***=IF(C36=\"Regular\", B36, 0)***=IF(C36=\"Trip\", B36, 0)***=IF(C36=\"Hobby\", B36, 0)\n",
      "11/26 NETFLIX.COM NETFLIX.COM CA***6.99***Regular***=IF(C37=\"Regular\", B37, 0)***=IF(C37=\"Trip\", B37, 0)***=IF(C37=\"Hobby\", B37, 0)\n",
      "11/26 TARGET 00025817 SAN JOSE CA***55.19***Regular***=IF(C38=\"Regular\", B38, 0)***=IF(C38=\"Trip\", B38, 0)***=IF(C38=\"Hobby\", B38, 0)\n",
      "11/27 SANTA CLARA UTILITIES 408-615-2300 CA***119.08***Regular***=IF(C39=\"Regular\", B39, 0)***=IF(C39=\"Trip\", B39, 0)***=IF(C39=\"Hobby\", B39, 0)\n",
      "11/27 Cinemark 800-2463627 TX***11.99***Regular***=IF(C40=\"Regular\", B40, 0)***=IF(C40=\"Trip\", B40, 0)***=IF(C40=\"Hobby\", B40, 0)\n",
      "11/28 SCC PARKS AND REC SAN JOSE CA***6.0***Regular***=IF(C41=\"Regular\", B41, 0)***=IF(C41=\"Trip\", B41, 0)***=IF(C41=\"Hobby\", B41, 0)\n",
      "11/28 SAFEWAY #1990 SANTA CLARA CA***61.9***Regular***=IF(C42=\"Regular\", B42, 0)***=IF(C42=\"Trip\", B42, 0)***=IF(C42=\"Hobby\", B42, 0)\n",
      "11/29 THE TECH INTERACTIVE 408-795-6260 CA***40.0***Regular***=IF(C43=\"Regular\", B43, 0)***=IF(C43=\"Trip\", B43, 0)***=IF(C43=\"Hobby\", B43, 0)\n",
      "11/29 STARBUCKS STORE 03458 SANTA CLARA CA***4.8***Regular***=IF(C44=\"Regular\", B44, 0)***=IF(C44=\"Trip\", B44, 0)***=IF(C44=\"Hobby\", B44, 0)\n",
      "11/30 STARBUCKS 800-782-7282 800-782-7282 WA***100.0***Regular***=IF(C45=\"Regular\", B45, 0)***=IF(C45=\"Trip\", B45, 0)***=IF(C45=\"Hobby\", B45, 0)\n",
      "12/01 BROADWAY MASALA REDWOOD CITY CA***14.0***Regular***=IF(C46=\"Regular\", B46, 0)***=IF(C46=\"Trip\", B46, 0)***=IF(C46=\"Hobby\", B46, 0)\n",
      "12/01 PINTS OF JOY SUNNYVALE CA***14.71***Regular***=IF(C47=\"Regular\", B47, 0)***=IF(C47=\"Trip\", B47, 0)***=IF(C47=\"Hobby\", B47, 0)\n",
      "12/02 CHIPOTLE ONLINE CHIPOTLE.COM CA***28.37***Regular***=IF(C48=\"Regular\", B48, 0)***=IF(C48=\"Trip\", B48, 0)***=IF(C48=\"Hobby\", B48, 0)\n",
      "12/03 DD *DOORDASH BRUNDAVAN 855-431-0459 CA***98.92***Regular***=IF(C49=\"Regular\", B49, 0)***=IF(C49=\"Trip\", B49, 0)***=IF(C49=\"Hobby\", B49, 0)\n",
      "12/03 STEAMGAMES.COM 4259522985 425-8899642 WA***17.99***Trip***=IF(C50=\"Regular\", B50, 0)***=IF(C50=\"Trip\", B50, 0)***=IF(C50=\"Hobby\", B50, 0)\n",
      "12/04 FIJI AIRWAYS2604562133525 LOS ANGELES CA***70.0***Regular***=IF(C51=\"Regular\", B51, 0)***=IF(C51=\"Trip\", B51, 0)***=IF(C51=\"Hobby\", B51, 0)\n",
      "12/04 FIJI AIRWAYS2604562133526 LOS ANGELES CA***70.0***Regular***=IF(C52=\"Regular\", B52, 0)***=IF(C52=\"Trip\", B52, 0)***=IF(C52=\"Hobby\", B52, 0)\n",
      "12/05 PurpleTie 650-3643009 CA***10.99***Regular***=IF(C53=\"Regular\", B53, 0)***=IF(C53=\"Trip\", B53, 0)***=IF(C53=\"Hobby\", B53, 0)\n",
      "12/06 KHOOBSURAT THREADING SALO SANTA CLARA CA***30.9***Regular***=IF(C54=\"Regular\", B54, 0)***=IF(C54=\"Trip\", B54, 0)***=IF(C54=\"Hobby\", B54, 0)\n",
      "12/07 82981 - 50 W SAN JOSE CA***12.0***Regular***=IF(C55=\"Regular\", B55, 0)***=IF(C55=\"Trip\", B55, 0)***=IF(C55=\"Hobby\", B55, 0)\n",
      "12/08 THE NEW STAND ST2891 SAN FRANCISCO CA***11.0***Regular***=IF(C56=\"Regular\", B56, 0)***=IF(C56=\"Trip\", B56, 0)***=IF(C56=\"Hobby\", B56, 0)\n",
      "12/08 UBER *TRIP HELP.UBER.COM CA***69.4***Trip***=IF(C57=\"Regular\", B57, 0)***=IF(C57=\"Trip\", B57, 0)***=IF(C57=\"Hobby\", B57, 0)\n",
      "12/09 AVIS RENTAL NADI AIRPO FIJI ISLANDS***493.38***Trip***=IF(C58=\"Regular\", B58, 0)***=IF(C58=\"Trip\", B58, 0)***=IF(C58=\"Hobby\", B58, 0)\n",
      "***=SUM(B2:B58)******=SUM(D2:D58)***=SUM(E2:E58)***=SUM(F2:F58)***=SUM(D59:F59)\n"
     ]
    }
   ],
   "source": [
    "s = \"\"\n",
    "for row in accumulated_content:\n",
    "    print('***'.join([str(item) for item in row]))\n"
   ]
  },
  {
   "cell_type": "code",
   "execution_count": 47,
   "metadata": {},
   "outputs": [
    {
     "data": {
      "text/plain": [
       "''"
      ]
     },
     "execution_count": 47,
     "metadata": {},
     "output_type": "execute_result"
    }
   ],
   "source": [
    "s"
   ]
  },
  {
   "cell_type": "code",
   "execution_count": 48,
   "metadata": {},
   "outputs": [
    {
     "name": "stdout",
     "output_type": "stream",
     "text": [
      "Please visit this URL to authorize this application: https://accounts.google.com/o/oauth2/auth?response_type=code&client_id=694301136407-7lfplojamr3flfdqoo629e5mf15pv8s7.apps.googleusercontent.com&redirect_uri=http%3A%2F%2Flocalhost%3A57339%2F&scope=https%3A%2F%2Fwww.googleapis.com%2Fauth%2Fspreadsheets&state=0ldXhpyJLzToRU0InWHQSbMTzRCYro&access_type=offline\n",
      "Created a new sheet result: {'spreadsheetId': '1Ik2lyOO5MN9a8-hEUf4sRqUlP3WcN36ItekQSGV4NxY', 'replies': [{'addSheet': {'properties': {'sheetId': 1319635758, 'title': 'Nov 2024', 'index': 17, 'sheetType': 'GRID', 'gridProperties': {'rowCount': 1000, 'columnCount': 26}}}}]}\n",
      "Exported content to 355 cells.\n",
      "Format sheet result: {'spreadsheetId': '1Ik2lyOO5MN9a8-hEUf4sRqUlP3WcN36ItekQSGV4NxY', 'replies': [{}, {}, {}]}\n"
     ]
    }
   ],
   "source": [
    "# Export to the spreadsheet.\n",
    "create_new_sheet_response = create_new_sheet(SPREADSHEET_ID, NEW_SHEET_NAME)\n",
    "sheet_id = create_new_sheet_response['replies'][0]['addSheet']['properties']['sheetId']\n",
    "write_response = write_content(SPREADSHEET_ID, NEW_SHEET_NAME, accumulated_content)\n",
    "format_sheet_response = format_sheet(SPREADSHEET_ID, sheet_id)"
   ]
  }
 ],
 "metadata": {
  "kernelspec": {
   "display_name": "llm",
   "language": "python",
   "name": "python3"
  },
  "language_info": {
   "codemirror_mode": {
    "name": "ipython",
    "version": 3
   },
   "file_extension": ".py",
   "mimetype": "text/x-python",
   "name": "python",
   "nbconvert_exporter": "python",
   "pygments_lexer": "ipython3",
   "version": "3.11.7"
  }
 },
 "nbformat": 4,
 "nbformat_minor": 2
}
